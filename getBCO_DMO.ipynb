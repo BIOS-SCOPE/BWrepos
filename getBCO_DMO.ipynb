{
 "cells": [
  {
   "cell_type": "markdown",
   "metadata": {},
   "source": [
    "getBCO_DMO, originally from Adam Shepard, Woods Hole Oceanographic Institution, 27 June 2025\n",
    "Krista Longnecker, 29 June 2025"
   ]
  },
  {
   "cell_type": "markdown",
   "metadata": {
    "id": "3q6muw9FRVI5"
   },
   "source": [
    "* for a given BCO-DMO project (I am working with this project to start: 826178), I need the list of datasets for that project\n",
    "\n",
    "* For each dataset, I need the following:\n",
    "- Name of dataset\n",
    "- DOI\n",
    "- the data itself (the CSV file)\n",
    "\n",
    "* each dataset has a set of parameters, and I can pull the parameter short names from the data file. For each parameter I need:\n",
    "-- short name, unit, description, data type, format (I see these are listed as field information in the website)\n",
    "\n"
   ]
  },
  {
   "cell_type": "code",
   "execution_count": 1,
   "metadata": {
    "id": "06wyLt5hRQLM"
   },
   "outputs": [],
   "source": [
    "%%capture\n",
    "!pip install frictionless\n",
    "!pip install frictionless[excel]\n",
    "!pip install -q sparqlwrapper\n"
   ]
  },
  {
   "cell_type": "code",
   "execution_count": 2,
   "metadata": {
    "id": "7pLBwZlQRaFR"
   },
   "outputs": [],
   "source": [
    "import pandas as pd\n",
    "import requests\n",
    "import os\n",
    "import json\n",
    "\n",
    "from datetime import datetime, timedelta, timezone\n",
    "\n",
    "from SPARQLWrapper import SPARQLWrapper, POST, JSON\n",
    "\n",
    "from frictionless import describe, Package"
   ]
  },
  {
   "cell_type": "code",
   "execution_count": 3,
   "metadata": {
    "id": "eNx9e4S01KEZ"
   },
   "outputs": [],
   "source": [
    "\"\"\"CONSTANTS\"\"\"\n",
    "\n",
    "SPARQL_ENDPOINT = 'https://lod.bco-dmo.org/sparql'\n",
    "\n",
    "PROJECT_URI = 'http://lod.bco-dmo.org/id/project/826178' #This is the BIOS-SCOPE project"
   ]
  },
  {
   "cell_type": "code",
   "execution_count": 4,
   "metadata": {
    "id": "iPPqRVrm1FQM"
   },
   "outputs": [],
   "source": [
    "\"\"\" HELPER FUNCTIONS \"\"\"\n",
    "def rfc3339_datetime_str():\n",
    "    \"\"\"\n",
    "    Construct an RFC3339-compliant datetime\n",
    "    \"\"\"\n",
    "    return datetime.now(timezone.utc).isoformat().replace(\"+00:00\", \"Z\")\n",
    "\n",
    "def get_sparql_dataframe(service, query):\n",
    "    \"\"\"\n",
    "    Helper function to convert SPARQL results into a Pandas data frame.\n",
    "    \"\"\"\n",
    "    sparql = SPARQLWrapper(service)\n",
    "    sparql.setQuery(query)\n",
    "    sparql.setReturnFormat(JSON)\n",
    "    result = sparql.query()\n",
    "    processed_results = json.load(result.response)\n",
    "    cols = processed_results['head']['vars']\n",
    "\n",
    "    out = []\n",
    "    for row in processed_results['results']['bindings']:\n",
    "        item = []\n",
    "        for c in cols:\n",
    "            item.append(row.get(c, {}).get('value'))\n",
    "        out.append(item)\n",
    "\n",
    "    return pd.DataFrame(out, columns=cols)\n",
    "\n"
   ]
  },
  {
   "cell_type": "code",
   "execution_count": 5,
   "metadata": {
    "colab": {
     "base_uri": "https://localhost:8080/",
     "height": 300
    },
    "id": "lkJjOAJm1OD5",
    "outputId": "a1dcbb52-9a93-470e-b678-8c899b7c44a7"
   },
   "outputs": [
    {
     "data": {
      "text/html": [
       "<div>\n",
       "<style scoped>\n",
       "    .dataframe tbody tr th:only-of-type {\n",
       "        vertical-align: middle;\n",
       "    }\n",
       "\n",
       "    .dataframe tbody tr th {\n",
       "        vertical-align: top;\n",
       "    }\n",
       "\n",
       "    .dataframe thead th {\n",
       "        text-align: right;\n",
       "    }\n",
       "</style>\n",
       "<table border=\"1\" class=\"dataframe\">\n",
       "  <thead>\n",
       "    <tr style=\"text-align: right;\">\n",
       "      <th></th>\n",
       "      <th>dataset</th>\n",
       "      <th>title</th>\n",
       "      <th>doi</th>\n",
       "    </tr>\n",
       "  </thead>\n",
       "  <tbody>\n",
       "    <tr>\n",
       "      <th>0</th>\n",
       "      <td>http://lod.bco-dmo.org/id/dataset/853440</td>\n",
       "      <td>ZooSCAN images of zooplankton collected during...</td>\n",
       "      <td>10.26008/1912/bco-dmo.853440.1</td>\n",
       "    </tr>\n",
       "    <tr>\n",
       "      <th>1</th>\n",
       "      <td>http://lod.bco-dmo.org/id/dataset/854077</td>\n",
       "      <td>ZooSCAN biovolume to biomass from imaged zoopl...</td>\n",
       "      <td>10.26008/1912/bco-dmo.854077.1</td>\n",
       "    </tr>\n",
       "    <tr>\n",
       "      <th>2</th>\n",
       "      <td>http://lod.bco-dmo.org/id/dataset/857891</td>\n",
       "      <td>ZooSCAN output from of imaged zooplankton coll...</td>\n",
       "      <td>10.26008/1912/bco-dmo.857891.1</td>\n",
       "    </tr>\n",
       "    <tr>\n",
       "      <th>3</th>\n",
       "      <td>http://lod.bco-dmo.org/id/dataset/861266</td>\n",
       "      <td>BIOS-SCOPE survey biogeochemical data as colle...</td>\n",
       "      <td>10.26008/1912/bco-dmo.861266.1</td>\n",
       "    </tr>\n",
       "    <tr>\n",
       "      <th>4</th>\n",
       "      <td>http://lod.bco-dmo.org/id/dataset/920443</td>\n",
       "      <td>Chemical analyses of size-fractionated particl...</td>\n",
       "      <td>10.26008/1912/bco-dmo.920443.1</td>\n",
       "    </tr>\n",
       "    <tr>\n",
       "      <th>5</th>\n",
       "      <td>http://lod.bco-dmo.org/id/dataset/964684</td>\n",
       "      <td>Size fractionated Amino Acid data collected in...</td>\n",
       "      <td>10.26008/1912/bco-dmo.964684.1</td>\n",
       "    </tr>\n",
       "    <tr>\n",
       "      <th>6</th>\n",
       "      <td>http://lod.bco-dmo.org/id/dataset/964801</td>\n",
       "      <td>Size fractionated carbohydrate data collected ...</td>\n",
       "      <td>10.26008/1912/bco-dmo.964801.1</td>\n",
       "    </tr>\n",
       "    <tr>\n",
       "      <th>7</th>\n",
       "      <td>http://lod.bco-dmo.org/id/dataset/964826</td>\n",
       "      <td>Size Fractionated Particulate Organic Carbon (...</td>\n",
       "      <td>10.26008/1912/bco-dmo.964826.1</td>\n",
       "    </tr>\n",
       "  </tbody>\n",
       "</table>\n",
       "</div>"
      ],
      "text/plain": [
       "                                    dataset  \\\n",
       "0  http://lod.bco-dmo.org/id/dataset/853440   \n",
       "1  http://lod.bco-dmo.org/id/dataset/854077   \n",
       "2  http://lod.bco-dmo.org/id/dataset/857891   \n",
       "3  http://lod.bco-dmo.org/id/dataset/861266   \n",
       "4  http://lod.bco-dmo.org/id/dataset/920443   \n",
       "5  http://lod.bco-dmo.org/id/dataset/964684   \n",
       "6  http://lod.bco-dmo.org/id/dataset/964801   \n",
       "7  http://lod.bco-dmo.org/id/dataset/964826   \n",
       "\n",
       "                                               title  \\\n",
       "0  ZooSCAN images of zooplankton collected during...   \n",
       "1  ZooSCAN biovolume to biomass from imaged zoopl...   \n",
       "2  ZooSCAN output from of imaged zooplankton coll...   \n",
       "3  BIOS-SCOPE survey biogeochemical data as colle...   \n",
       "4  Chemical analyses of size-fractionated particl...   \n",
       "5  Size fractionated Amino Acid data collected in...   \n",
       "6  Size fractionated carbohydrate data collected ...   \n",
       "7  Size Fractionated Particulate Organic Carbon (...   \n",
       "\n",
       "                              doi  \n",
       "0  10.26008/1912/bco-dmo.853440.1  \n",
       "1  10.26008/1912/bco-dmo.854077.1  \n",
       "2  10.26008/1912/bco-dmo.857891.1  \n",
       "3  10.26008/1912/bco-dmo.861266.1  \n",
       "4  10.26008/1912/bco-dmo.920443.1  \n",
       "5  10.26008/1912/bco-dmo.964684.1  \n",
       "6  10.26008/1912/bco-dmo.964801.1  \n",
       "7  10.26008/1912/bco-dmo.964826.1  "
      ]
     },
     "execution_count": 5,
     "metadata": {},
     "output_type": "execute_result"
    }
   ],
   "source": [
    "\"\"\"Get the Projects Datasets\"\"\"\n",
    "\n",
    "PROJECT_DATASETS_QUERY = \"\"\"\n",
    "SELECT ?dataset ?title ?doi\n",
    "WHERE {\n",
    "  VALUES ?project { <\"\"\" + PROJECT_URI + \"\"\">}\n",
    "  ?project a odo:Project .\n",
    "  ?project odo:hasDataset ?dataset .\n",
    "  ?dataset a odo:Dataset .\n",
    "  OPTIONAL { ?dataset odo:datasetTitle ?title }\n",
    "  OPTIONAL { ?dataset bibo:doi ?doi }\n",
    "}\n",
    "ORDER BY ?dataset ?data_file ?data_file_type\"\"\"\n",
    "\n",
    "metadata = get_sparql_dataframe(SPARQL_ENDPOINT, PROJECT_DATASETS_QUERY)\n",
    "metadata.head(10)"
   ]
  },
  {
   "cell_type": "code",
   "execution_count": 6,
   "metadata": {
    "id": "BIEFyiFCJjZS"
   },
   "outputs": [],
   "source": [
    "\"\"\"QUERIES for dataset data files and dataset parameters\"\"\"\n",
    "\n",
    "DATASET_FILES_QUERY = \"\"\"\n",
    "SELECT ?url (STR(?is_primary_data_file) as ?is_primary_data_file)  ?bytesize ?type ?mimetype ?type_abbreviation ?type_name\n",
    "WHERE {\n",
    "  VALUES ?dataset { <{dataset_uri}>}\n",
    "  ?dataset a odo:Dataset .\n",
    "  ?dataset odo:dataFile ?data_file .\n",
    "  OPTIONAL { ?data_file odo:isPrimaryDataFile ?is_primary_data_file }\n",
    "  ?data_file odo:usesFileDescriptor [\n",
    "    odo:bytesize ?bytesize ;\n",
    "    odo:downloadUrl ?url ;\n",
    "    odo:fileType ?type ;\n",
    "  ] .\n",
    "  ?type skos:prefLabel ?type_name .\n",
    "  OPTIONAL { ?type odo:mimetype ?mimetype }\n",
    "  OPTIONAL { ?type skos:altLabel ?type_abbreviation }\n",
    "}\n",
    "ORDER BY ?data_file ?data_file_type\"\"\"\n",
    "\n",
    "DATASET_PARAMS_QUERY = \"\"\"\n",
    "SELECT ?supplied_name ?supplied_definition ?datatype ?units ?format\n",
    "WHERE {\n",
    "  VALUES ?dataset { <{dataset_uri}>}\n",
    "  ?dataset a odo:Dataset .\n",
    "  ?dataset odo:storesValuesFor ?dataset_param .\n",
    "  ?dataset_param skos:prefLabel ?supplied_name .\n",
    "    OPTIONAL { ?dataset_param skos:definition ?supplied_definition }\n",
    "    OPTIONAL { ?dataset_param odo:hasUnitOfMeasure/rdf:value ?units }\n",
    "    OPTIONAL { ?dataset_param odo:datatype/odo:frictionlessdataDatatype ?datatype }\n",
    "    OPTIONAL { ?dataset_param odo:valueFormat ?format }\n",
    "}\n",
    "ORDER BY ?dataset_param\"\"\""
   ]
  },
  {
   "cell_type": "code",
   "execution_count": null,
   "metadata": {
    "colab": {
     "base_uri": "https://localhost:8080/",
     "height": 1000
    },
    "id": "6gCg0Tzs5lI6",
    "outputId": "e7d53fb0-05e5-4d44-fdca-5b798e6a3292"
   },
   "outputs": [],
   "source": [
    "\"\"\" Create a Frictionless Data Package \"\"\"\n",
    "\n",
    "biosscope = Package(name='biosscope-bcodmo-datasets', profile='data-package')\n",
    "biosscope.title = 'Bermuda Institute of Ocean Sciences Simons Collaboration on Ocean Processes and Ecology'\n",
    "biosscope.description = 'BIOSSCOPE datasets from BCO-DMO'\n",
    "biosscope.created = rfc3339_datetime_str()\n",
    "biosscope.sources = []\n",
    "\n",
    "for index, dataset in metadata.iterrows():\n",
    "\n",
    "  # Save the dataset as a 'source' in the Package\n",
    "  source = {\n",
    "    'path': dataset['dataset'],\n",
    "    'title': dataset['title'],\n",
    "    'doi': dataset['doi']\n",
    "  }\n",
    "  biosscope.sources.append(source)\n",
    "\n",
    "\n",
    "  # Get the BCO-DMO parameters\n",
    "  parameters = get_sparql_dataframe(SPARQL_ENDPOINT, DATASET_PARAMS_QUERY.replace('{dataset_uri}', dataset['dataset']))\n",
    "  schema = []\n",
    "  for param_index, parameter in parameters.iterrows():\n",
    "    param = {}\n",
    "    param['bcodmo:name'] = parameter['supplied_name']\n",
    "    if parameter['supplied_definition'] is not None:\n",
    "      param['bcodmo:description'] = parameter['supplied_definition']\n",
    "    if parameter['datatype'] is not None:\n",
    "      param['bcodmo:datatype'] = parameter['datatype']\n",
    "    if parameter['units'] is not None:\n",
    "      param['bcodmo:units'] = parameter['units']\n",
    "    if parameter['format'] is not None:\n",
    "      param['bcodmo:valueFormat'] = parameter['format']\n",
    "    schema.append(param)\n",
    "\n",
    "  # Get the 'data' files for a Dataset (skip any supplemental documentation)\n",
    "  files = get_sparql_dataframe(SPARQL_ENDPOINT, DATASET_FILES_QUERY.replace('{dataset_uri}', dataset['dataset']))\n",
    "  for file_index, file in files.iterrows():\n",
    "\n",
    "    # Use Frictionless to describe the file\n",
    "    datafile = describe(file['url'])\n",
    "\n",
    "    # Get Table stats\n",
    "    if datafile.type == 'table':\n",
    "      datafile.infer(stats=True)\n",
    "\n",
    "    # Specify which dataset this file belongs to\n",
    "    datafile.sources = [source]\n",
    "\n",
    "    # If the file is marked as the primary file for the dataset, attach the parameters to the file\n",
    "    if schema is not None and file['is_primary_data_file'] == 'true':\n",
    "      datafile.custom['bcodmo:parameters'] = schema\n",
    "\n",
    "    # Add the file to the package\n",
    "    biosscope.add_resource(datafile)\n",
    "\n",
    "# Save the package\n",
    "print(biosscope.to_json())\n",
    "biosscope.to_json('datapackage.json')"
   ]
  },
  {
   "cell_type": "code",
   "execution_count": null,
   "metadata": {},
   "outputs": [],
   "source": []
  }
 ],
 "metadata": {
  "colab": {
   "provenance": []
  },
  "kernelspec": {
   "display_name": "Python 3 (ipykernel)",
   "language": "python",
   "name": "python3"
  },
  "language_info": {
   "codemirror_mode": {
    "name": "ipython",
    "version": 3
   },
   "file_extension": ".py",
   "mimetype": "text/x-python",
   "name": "python",
   "nbconvert_exporter": "python",
   "pygments_lexer": "ipython3",
   "version": "3.13.2"
  }
 },
 "nbformat": 4,
 "nbformat_minor": 4
}
