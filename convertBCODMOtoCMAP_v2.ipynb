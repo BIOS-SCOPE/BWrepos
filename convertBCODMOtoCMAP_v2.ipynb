{
 "cells": [
  {
   "cell_type": "markdown",
   "id": "a9efb115-054a-4922-9312-dba2564fd872",
   "metadata": {
    "id": "a9efb115-054a-4922-9312-dba2564fd872"
   },
   "source": [
    "# convertBCODMOtoCMAP\n",
    "Krista Longnecker, 2 July 2025\\\n",
    "Run this after running getBCODMOinfo.ipynb\\\n",
    "Once you have the information from BCO-DMO dataset in hand, use this to make it into the format required by CMAP.\\\n",
    "Note: this version puts most of the code into a separate python script (convert.py) to make it easier to run through multiple data files."
   ]
  },
  {
   "cell_type": "code",
   "execution_count": 30,
   "id": "6edb5289-064f-42ff-a807-68dcc169a7b6",
   "metadata": {
    "id": "6edb5289-064f-42ff-a807-68dcc169a7b6"
   },
   "outputs": [],
   "source": [
    "#some of these are residual from assembling the data file, keep for now.\n",
    "import pandas as pd\n",
    "import requests\n",
    "import os\n",
    "import json\n",
    "import re\n",
    "import pdb\n",
    "\n",
    "from datetime import datetime, timedelta, timezone\n",
    "from SPARQLWrapper import SPARQLWrapper, POST, JSON\n",
    "from frictionless import describe, Package"
   ]
  },
  {
   "cell_type": "code",
   "execution_count": 2,
   "id": "b8e537cf-1082-4559-9320-12a8bddb03bb",
   "metadata": {
    "id": "b8e537cf-1082-4559-9320-12a8bddb03bb"
   },
   "outputs": [],
   "source": [
    "# Make a function that searches for bcodmo:name and returns bcodmo:description and bcodmo:units\n",
    "# input: md --> the list of parameters for one dataset\n",
    "def getDetails(md,bcodmo_name):\n",
    "    \"\"\"\n",
    "    Take the list of information from BCO-DMO, search for a name, and return the description and units for that name\n",
    "    \"\"\"\n",
    "    for i, item in enumerate(md):\n",
    "        if item['bcodmo:name'] == bcodmo_name:\n",
    "            #actually want the descrption, so return that\n",
    "            description = item['bcodmo:description']\n",
    "            units = item['bcodmo:units']\n",
    "\n",
    "    return description, units"
   ]
  },
  {
   "cell_type": "code",
   "execution_count": 3,
   "id": "7b33016a-3190-4863-964f-8a9976672387",
   "metadata": {
    "id": "7b33016a-3190-4863-964f-8a9976672387"
   },
   "outputs": [],
   "source": [
    "#read in the package that was already made (using getBCODMOinfo.ipynb)\n",
    "biosscope = Package('datapackage.json')\n",
    "# biosscope = Package(JSON_FILE)"
   ]
  },
  {
   "cell_type": "code",
   "execution_count": 19,
   "id": "b2129d21-538d-4711-9138-fe776f1946f0",
   "metadata": {},
   "outputs": [
    {
     "data": {
      "text/plain": [
       "['zooscan_images_bats_ae1614',\n",
       " 'zooscan_images_bats_ae1712',\n",
       " 'zooscan_images_bats_ae1819',\n",
       " 'zooscan_images_bats_ae1830',\n",
       " 'zooscan_bats_biovolume',\n",
       " 'zooscan_mocness_output',\n",
       " 'survey_biogeochemical',\n",
       " '920443_v1_biosscope_in_situ_pump_chemical_data',\n",
       " '964684_v1_amino_acids_biosscope_2021',\n",
       " '964801_v1_pump_carbohydrates_biosscope_2021',\n",
       " '964826_v1_pump_poc_pon_biosscope']"
      ]
     },
     "execution_count": 19,
     "metadata": {},
     "output_type": "execute_result"
    }
   ],
   "source": [
    "out = [];\n",
    "for idx,item in enumerate(biosscope.resources):\n",
    "    justFile = item.name;\n",
    "    #pdb.set_trace()\n",
    "    out.append(justFile)\n",
    "\n",
    "out #this will be a list, iterate through the files on this list \n",
    "#leave here so I see the filenames might not need the actual list"
   ]
  },
  {
   "cell_type": "code",
   "execution_count": 40,
   "id": "0aa6ab33-1bac-4e7f-8645-582ddf3feb9e",
   "metadata": {},
   "outputs": [],
   "source": [
    "#most datasets need additional processing to get depth and/or time. \n",
    "#Set up a table here to note what needs to be done, use later to spin off to other scripts.\n",
    "toSkip = {'zooscan_images_bats_ae1614', #these actually will not match below bc do not end in csv\n",
    " 'zooscan_images_bats_ae1712',\n",
    " 'zooscan_images_bats_ae1819',\n",
    " 'zooscan_images_bats_ae1830'}\n",
    "addDepth = {'920443_v1_biosscope_in_situ_pump_chemical_data',\n",
    " '964684_v1_amino_acids_biosscope_2021',\n",
    " '964801_v1_pump_carbohydrates_biosscope_2021',\n",
    " '964826_v1_pump_poc_pon_biosscope'}\n",
    "toMerge = {'zooscan_bats_biovolume',\n",
    " 'zooscan_mocness_output'}\n",
    "useAsIs = {'survey_biogeochemical'};"
   ]
  },
  {
   "cell_type": "markdown",
   "id": "4fcdfaa2-c137-4c64-b851-9fc5fd2470d9",
   "metadata": {
    "id": "4fcdfaa2-c137-4c64-b851-9fc5fd2470d9"
   },
   "source": [
    "# Start working with a data file"
   ]
  },
  {
   "cell_type": "code",
   "execution_count": 22,
   "id": "130ca57d-5dbb-48b2-bb4e-2f331c71dab6",
   "metadata": {},
   "outputs": [],
   "source": [
    "import convert #this is the function, run this cell if I have made an edit to convert.py"
   ]
  },
  {
   "cell_type": "code",
   "execution_count": 42,
   "id": "bedd6ec9-93f0-44ff-8a07-9e5ff0a0975a",
   "metadata": {},
   "outputs": [
    {
     "name": "stdout",
     "output_type": "stream",
     "text": [
      "toMerge\n",
      "toMerge\n",
      "Data will go here: C:\\Users\\klongnecker\\Documents\\Dropbox\\GitHub_espresso\\BWrepos\\data\n",
      "addDepth\n",
      "addDepth\n",
      "addDepth\n",
      "addDepth\n"
     ]
    }
   ],
   "source": [
    "for idx in range(len(biosscope.resources)):\n",
    "    data_url = biosscope.resources[idx].path\n",
    "    if data_url.endswith('.csv'):\n",
    "        checkFile = re.split('/',data_url).pop().replace('.csv','')\n",
    "        #print(data_url)\n",
    "        #have a few options and trying to group these based on added steps needed to make the data file ready\n",
    "        if checkFile in toSkip:\n",
    "            print('skip')\n",
    "        elif checkFile in addDepth:\n",
    "            print('addDepth')\n",
    "        elif checkFile in toMerge:\n",
    "            print('toMerge')\n",
    "        elif checkFile in useAsIs:\n",
    "            #print('as is')\n",
    "            %run convert.py {idx}   \n",
    "        else:\n",
    "            print('no match')"
   ]
  },
  {
   "cell_type": "code",
   "execution_count": null,
   "id": "5113c561-dd9c-43de-af85-e7f50bcf6e6e",
   "metadata": {},
   "outputs": [],
   "source": []
  },
  {
   "cell_type": "code",
   "execution_count": null,
   "id": "8ee2444e-6a42-4da5-a193-3ff389aa7a68",
   "metadata": {
    "id": "8ee2444e-6a42-4da5-a193-3ff389aa7a68",
    "outputId": "4421524b-9b02-4f98-a12b-3c59b3d20ead"
   },
   "outputs": [],
   "source": [
    "#raise UserWarning('Stopping and leave code below for historical reasons, code will not run')"
   ]
  },
  {
   "cell_type": "code",
   "execution_count": null,
   "id": "8e6f55de-ce64-4a35-85c8-646c62fa2c13",
   "metadata": {},
   "outputs": [],
   "source": [
    "#was heading down this path and using out as a dictionary, leave for now in case I come back to this.\n",
    "# out = {};\n",
    "# for idx,item in enumerate(biosscope.resources):\n",
    "#     justFile = item.name;\n",
    "#     #pdb.set_trace()\n",
    "#     out.update({'file':justFile})\n",
    "#     if justFile == '920443_v1_biosscope_in_situ_pump_chemical_data':\n",
    "#         print('yes')\n",
    "#         out.update({'toDo':'addDepth'})\n",
    "        \n",
    "#     #out.append(justFile)\n",
    "\n",
    "# out #this will be a list, iterate through the files on this list"
   ]
  }
 ],
 "metadata": {
  "colab": {
   "provenance": []
  },
  "kernelspec": {
   "display_name": "Python 3 (ipykernel)",
   "language": "python",
   "name": "python3"
  },
  "language_info": {
   "codemirror_mode": {
    "name": "ipython",
    "version": 3
   },
   "file_extension": ".py",
   "mimetype": "text/x-python",
   "name": "python",
   "nbconvert_exporter": "python",
   "pygments_lexer": "ipython3",
   "version": "3.11.7"
  }
 },
 "nbformat": 4,
 "nbformat_minor": 5
}
