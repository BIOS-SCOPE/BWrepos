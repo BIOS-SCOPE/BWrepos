{
 "cells": [
  {
   "cell_type": "markdown",
   "id": "a9efb115-054a-4922-9312-dba2564fd872",
   "metadata": {
    "id": "a9efb115-054a-4922-9312-dba2564fd872"
   },
   "source": [
    "# convertBCODMOtoCMAP\n",
    "Krista Longnecker, 2 July 2025\\\n",
    "Run this after running getBCODMOinfo.ipynb\\\n",
    "Once you have the information from BCO-DMO dataset in hand, use this to make it into the format required by CMAP.\\\n",
    "Note: this version puts most of the code into a separate python script (convert.py) to make it easier to run through multiple data files."
   ]
  },
  {
   "cell_type": "code",
   "execution_count": 1,
   "id": "6edb5289-064f-42ff-a807-68dcc169a7b6",
   "metadata": {
    "id": "6edb5289-064f-42ff-a807-68dcc169a7b6"
   },
   "outputs": [],
   "source": [
    "#some of these are residual from assembling the data file, keep for now.\n",
    "import pandas as pd\n",
    "import requests\n",
    "import os\n",
    "import json\n",
    "import re\n",
    "import pdb\n",
    "\n",
    "from datetime import datetime, timedelta, timezone\n",
    "from SPARQLWrapper import SPARQLWrapper, POST, JSON\n",
    "from frictionless import describe, Package"
   ]
  },
  {
   "cell_type": "code",
   "execution_count": 22,
   "id": "b8e537cf-1082-4559-9320-12a8bddb03bb",
   "metadata": {
    "id": "b8e537cf-1082-4559-9320-12a8bddb03bb"
   },
   "outputs": [],
   "source": [
    "# Make a function that searches for bcodmo:name and returns bcodmo:description and bcodmo:units\n",
    "# input: md --> the list of parameters for one dataset\n",
    "def getDetails(md,bcodmo_name):\n",
    "    \"\"\"\n",
    "    Take the list of information from BCO-DMO, search for a name, and return the description and units for that name\n",
    "    \"\"\"\n",
    "    for i, item in enumerate(md):\n",
    "        if item['bcodmo:name'] == bcodmo_name:\n",
    "            #actually want the descrption, so return that\n",
    "            description = item['bcodmo:description']\n",
    "            units = item['bcodmo:units']\n",
    "\n",
    "    return description, units"
   ]
  },
  {
   "cell_type": "code",
   "execution_count": 3,
   "id": "7b33016a-3190-4863-964f-8a9976672387",
   "metadata": {
    "id": "7b33016a-3190-4863-964f-8a9976672387"
   },
   "outputs": [],
   "source": [
    "#read in the package that was already made (using getBCODMOinfo.ipynb)\n",
    "biosscope = Package('datapackage.json')\n",
    "# biosscope = Package(JSON_FILE)"
   ]
  },
  {
   "cell_type": "code",
   "execution_count": 4,
   "id": "b2129d21-538d-4711-9138-fe776f1946f0",
   "metadata": {},
   "outputs": [
    {
     "data": {
      "text/plain": [
       "['zooscan_images_bats_ae1614',\n",
       " 'zooscan_images_bats_ae1712',\n",
       " 'zooscan_images_bats_ae1819',\n",
       " 'zooscan_images_bats_ae1830',\n",
       " 'zooscan_bats_biovolume',\n",
       " 'zooscan_mocness_output',\n",
       " 'survey_biogeochemical',\n",
       " '920443_v1_biosscope_in_situ_pump_chemical_data',\n",
       " '964684_v1_amino_acids_biosscope_2021',\n",
       " '964801_v1_pump_carbohydrates_biosscope_2021',\n",
       " '964826_v1_pump_poc_pon_biosscope']"
      ]
     },
     "execution_count": 4,
     "metadata": {},
     "output_type": "execute_result"
    }
   ],
   "source": [
    "out = [];\n",
    "for idx,item in enumerate(biosscope.resources):\n",
    "    justFile = item.name;\n",
    "    #pdb.set_trace()\n",
    "    out.append(justFile)\n",
    "\n",
    "out #this will be a list, iterate through the files on this list \n",
    "#leave here so I see the filenames might not need the actual list"
   ]
  },
  {
   "cell_type": "code",
   "execution_count": 5,
   "id": "0aa6ab33-1bac-4e7f-8645-582ddf3feb9e",
   "metadata": {},
   "outputs": [],
   "source": [
    "#most datasets need additional processing to get depth and/or time. \n",
    "#Set up a table here to note what needs to be done, use later to spin off to other scripts.\n",
    "toSkip = {'zooscan_images_bats_ae1614', #these actually will not match below bc do not end in csv\n",
    " 'zooscan_images_bats_ae1712',\n",
    " 'zooscan_images_bats_ae1819',\n",
    " 'zooscan_images_bats_ae1830'}\n",
    "addDepth = {'920443_v1_biosscope_in_situ_pump_chemical_data',\n",
    " '964684_v1_amino_acids_biosscope_2021',\n",
    " '964801_v1_pump_carbohydrates_biosscope_2021',\n",
    " '964826_v1_pump_poc_pon_biosscope'}\n",
    "toMerge = {'zooscan_bats_biovolume',\n",
    " 'zooscan_mocness_output'}\n",
    "useAsIs = {'survey_biogeochemical'};"
   ]
  },
  {
   "cell_type": "markdown",
   "id": "4fcdfaa2-c137-4c64-b851-9fc5fd2470d9",
   "metadata": {
    "id": "4fcdfaa2-c137-4c64-b851-9fc5fd2470d9"
   },
   "source": [
    "# Start working with a data file"
   ]
  },
  {
   "cell_type": "code",
   "execution_count": 7,
   "id": "130ca57d-5dbb-48b2-bb4e-2f331c71dab6",
   "metadata": {},
   "outputs": [],
   "source": [
    "# import convert #this is the function, run this cell if I have made an edit to convert.py\n",
    "# import convert_pumpData"
   ]
  },
  {
   "cell_type": "code",
   "execution_count": 50,
   "id": "bedd6ec9-93f0-44ff-8a07-9e5ff0a0975a",
   "metadata": {},
   "outputs": [
    {
     "name": "stdout",
     "output_type": "stream",
     "text": [
      "toMerge zooscan_bats_biovolume\n",
      "toMerge zooscan_mocness_output\n",
      "Data will go here: C:\\Users\\klongnecker\\Documents\\Dropbox\\GitHub_espresso\\BWrepos\\data\\survey_biogeochemical\n",
      "Data will go here: C:\\Users\\klongnecker\\Documents\\Dropbox\\GitHub_espresso\\BWrepos\\data\\920443_v1_biosscope_in_situ_pump_chemical_data\n",
      "Data will go here: C:\\Users\\klongnecker\\Documents\\Dropbox\\GitHub_espresso\\BWrepos\\data\\964684_v1_amino_acids_biosscope_2021\n",
      "Data will go here: C:\\Users\\klongnecker\\Documents\\Dropbox\\GitHub_espresso\\BWrepos\\data\\964801_v1_pump_carbohydrates_biosscope_2021\n",
      "Data will go here: C:\\Users\\klongnecker\\Documents\\Dropbox\\GitHub_espresso\\BWrepos\\data\\964826_v1_pump_poc_pon_biosscope\n"
     ]
    }
   ],
   "source": [
    "for idx in range(len(biosscope.resources)):\n",
    "    data_url = biosscope.resources[idx].path\n",
    "    if data_url.endswith('.csv'):\n",
    "        checkFile = re.split('/',data_url).pop().replace('.csv','')\n",
    "        #print(data_url)\n",
    "        #have a few options and trying to group these based on added steps needed to make the data file ready\n",
    "        if checkFile in toSkip:\n",
    "            print('skip ' + checkFile)\n",
    "        elif checkFile in addDepth:\n",
    "            %run convert_pumpData.py {idx}   \n",
    "        elif checkFile in toMerge:\n",
    "            print('toMerge ' + checkFile)\n",
    "        elif checkFile in useAsIs:\n",
    "            %run convert.py {idx}   \n",
    "        else:\n",
    "            print('no match ' + checkFile)"
   ]
  },
  {
   "cell_type": "code",
   "execution_count": null,
   "id": "84039b2c-a438-494a-ad35-06b1406e398c",
   "metadata": {},
   "outputs": [],
   "source": []
  },
  {
   "cell_type": "code",
   "execution_count": null,
   "id": "ccc90785-3bfc-4dd9-b34f-a03f4864d4bd",
   "metadata": {},
   "outputs": [],
   "source": []
  },
  {
   "cell_type": "code",
   "execution_count": 37,
   "id": "03ed45b3-2c3a-4e27-84c8-26ff4f232bb1",
   "metadata": {},
   "outputs": [
    {
     "data": {
      "text/plain": [
       "'964826_v1_pump_poc_pon_biosscope'"
      ]
     },
     "execution_count": 37,
     "metadata": {},
     "output_type": "execute_result"
    }
   ],
   "source": [
    "idx = 10\n",
    "data_url = biosscope.resources[idx].path\n",
    "checkFile = re.split('/',data_url).pop().replace('.csv','')\n",
    "checkFile"
   ]
  },
  {
   "cell_type": "code",
   "execution_count": null,
   "id": "82f7b347-26f2-4c3e-82bc-372fbf300609",
   "metadata": {},
   "outputs": [],
   "source": []
  },
  {
   "cell_type": "code",
   "execution_count": null,
   "id": "eb20dd9b-b6dc-44e7-b53d-572595b0d8b8",
   "metadata": {},
   "outputs": [],
   "source": []
  },
  {
   "cell_type": "code",
   "execution_count": 41,
   "id": "9448cf8c-9650-49e4-9e3c-94677e51fb39",
   "metadata": {},
   "outputs": [],
   "source": [
    " #to do: figure out a better way to do this so I am not reading in the json file every time\n",
    "biosscope = Package('datapackage.json')\n",
    "\n",
    "data_url = biosscope.resources[idx].path\n",
    "md = biosscope.resources[idx].custom['bcodmo:parameters'] #this is a list, don't forget 'custom' (!!)\n",
    "\n",
    "#make a short name out of the data_url, will use this as part of the name for the final Excel file \n",
    "exportFile = re.split('/',data_url).pop().replace('.csv','')\n",
    "\n",
    "#super easy to work with the CSV file once I have the URL\n",
    "#pdb.set_trace()\n",
    "bcodmo = pd.read_csv(data_url,na_values = ['nd']) #now I have NaN...but they get dropped when writing the file\n",
    "    \n",
    "# Required variables are time, lat, lon, depth\n",
    "df = pd.DataFrame(columns=['time','lat','lon','depth'])\n",
    "\n",
    "    \n",
    "# time --> CMAP requirement is this: #< Format  %Y-%m-%dT%H:%M:%S,  Time-Zone:  UTC,  example: 2014-02-28T14:25:55 >\n",
    "# Do this in two steps so I can check the output more easily\n",
    "#no time available in particle data\n",
    "temp = bcodmo.copy()\n",
    "temp['date'] = pd.to_datetime(temp['Date'])\n",
    "temp['date_cmap'] = temp['date'].dt.strftime(\"%Y-%m-%dT%H:%M:%S\")\n",
    "df['time'] = temp['date_cmap']\n",
    "\n",
    "# lat (-90 to 90) and lon (-180 to 180); use variable names at BCO-DMO\n",
    "df['lat'] = bcodmo['Latitude']\n",
    "df['lon'] = bcodmo['Longitude']  #BCO-DMO already has this as negative\n",
    "\n",
    "#depth in the UM data can be either 'Depth' or 'Depth_m' --> figure out which one\n",
    "if 'Depth' in bcodmo.columns:\n",
    "    useD = 'Depth'\n",
    "elif 'Depth_m' in bcodmo.columns:\n",
    "    useD = 'Depth_m'\n",
    "\n",
    "df['depth'] = bcodmo[useD]\n",
    "\n",
    "# all remaining columns in bcodmo can be considered data\n",
    "#remember: bcodmo_trim will have the list of variables that I will use later to get metadata about the variables\n",
    "bcodmo_trim = bcodmo.drop(columns=['Latitude', 'Longitude', useD])\n",
    "nVariables = bcodmo_trim.shape[1] #remember in Python indexing starts with 0 (rows, 1 is the columns)\n",
    "# and then add to the datafile I am assembling (essentially re-order columns\n",
    "df = pd.concat([df, bcodmo_trim], axis=1)\n",
    "\n",
    "# work on the second sheet: metadata about the variables; use the CMAP dataset template to setup the dataframe so I get the column headers right\n",
    "templateName = 'datasetTemplate.xlsx'\n",
    "sheet_name = 'vars_meta_data'\n",
    "vars = pd.read_excel(templateName, sheet_name=sheet_name)\n",
    "cols = vars.columns.tolist()\n",
    "#df2 will be the dataframe with the metadata about the variables, set it up empty here\n",
    "df2 = pd.DataFrame(columns=cols,index = pd.RangeIndex(start=0,stop=nVariables)) #remember, Python is 0 indexed\n",
    "\n",
    "#the variables I need to search for are here: bcodmo_trim.columns, put them in the first column\n",
    "df2['var_short_name'] = bcodmo_trim.columns\n",
    "#Need the information from BCO-DMO to fill in the metadata about the variables.\n",
    "#md = biosscope.resources[idx].custom['bcodmo:parameters'] #this is a list, don't forget 'custom' (!!)"
   ]
  },
  {
   "cell_type": "code",
   "execution_count": 43,
   "id": "eada371e-56c7-4c72-862c-e8ad5ada82e8",
   "metadata": {},
   "outputs": [
    {
     "name": "stdout",
     "output_type": "stream",
     "text": [
      "Internal sample ID\n",
      "BIOSSCOPE cruise identifier\n",
      "<p>Date of sampling</p>\n",
      "Particle size range for water fraction\n",
      "Filter type used for particle fraction (Nitex, GF/C ,GF75)\n",
      "standard deviation of the depth\n",
      "PN; average bulk particulate nitrogen (one sample filter analyzed, replicate blanks used to incorporate uncertainty)\n",
      "standard deviation for bulk particulate nitrogen\n",
      "POC; average bulk particulate organic carbon (one sample filter analyzed, replicate blanks used to incorporate uncertainty)\n",
      "standard deviation for bulk particulate organic carbon\n",
      "Carbon to nitrogen ratio of acidified POC to non-acidified PN\n",
      "standard deviation of CN ratio (propagated error from POC and PN)\n"
     ]
    }
   ],
   "source": [
    "for idx,item in enumerate(df2.iterrows()):\n",
    "    a,b = getDetails(md,df2.loc[idx,'var_short_name']) #getDetails is the function I wrote (see above)\n",
    "    #pdb.set_trace()\n",
    "    df2.loc[idx,'var_long_name'] = a\n",
    "    df2.loc[idx,'var_unit'] = b\n",
    "    print(a)"
   ]
  },
  {
   "cell_type": "code",
   "execution_count": 44,
   "id": "4d42dcf7-11ef-427c-95c9-8a3a5984bcfe",
   "metadata": {},
   "outputs": [
    {
     "data": {
      "text/html": [
       "<div>\n",
       "<style scoped>\n",
       "    .dataframe tbody tr th:only-of-type {\n",
       "        vertical-align: middle;\n",
       "    }\n",
       "\n",
       "    .dataframe tbody tr th {\n",
       "        vertical-align: top;\n",
       "    }\n",
       "\n",
       "    .dataframe thead th {\n",
       "        text-align: right;\n",
       "    }\n",
       "</style>\n",
       "<table border=\"1\" class=\"dataframe\">\n",
       "  <thead>\n",
       "    <tr style=\"text-align: right;\">\n",
       "      <th></th>\n",
       "      <th>var_short_name</th>\n",
       "      <th>var_long_name</th>\n",
       "      <th>var_sensor</th>\n",
       "      <th>var_unit</th>\n",
       "      <th>var_spatial_res</th>\n",
       "      <th>var_temporal_res</th>\n",
       "      <th>var_discipline</th>\n",
       "      <th>visualize</th>\n",
       "      <th>var_keywords</th>\n",
       "      <th>var_comment</th>\n",
       "    </tr>\n",
       "  </thead>\n",
       "  <tbody>\n",
       "    <tr>\n",
       "      <th>0</th>\n",
       "      <td>Sample_ID</td>\n",
       "      <td>Internal sample ID</td>\n",
       "      <td>NaN</td>\n",
       "      <td>unitless</td>\n",
       "      <td>NaN</td>\n",
       "      <td>NaN</td>\n",
       "      <td>NaN</td>\n",
       "      <td>NaN</td>\n",
       "      <td>NaN</td>\n",
       "      <td>NaN</td>\n",
       "    </tr>\n",
       "    <tr>\n",
       "      <th>1</th>\n",
       "      <td>Cruise</td>\n",
       "      <td>BIOSSCOPE cruise identifier</td>\n",
       "      <td>NaN</td>\n",
       "      <td>unitless</td>\n",
       "      <td>NaN</td>\n",
       "      <td>NaN</td>\n",
       "      <td>NaN</td>\n",
       "      <td>NaN</td>\n",
       "      <td>NaN</td>\n",
       "      <td>NaN</td>\n",
       "    </tr>\n",
       "    <tr>\n",
       "      <th>2</th>\n",
       "      <td>Date</td>\n",
       "      <td>&lt;p&gt;Date of sampling&lt;/p&gt;</td>\n",
       "      <td>NaN</td>\n",
       "      <td>unitless</td>\n",
       "      <td>NaN</td>\n",
       "      <td>NaN</td>\n",
       "      <td>NaN</td>\n",
       "      <td>NaN</td>\n",
       "      <td>NaN</td>\n",
       "      <td>NaN</td>\n",
       "    </tr>\n",
       "    <tr>\n",
       "      <th>3</th>\n",
       "      <td>Size_fraction</td>\n",
       "      <td>Particle size range for water fraction</td>\n",
       "      <td>NaN</td>\n",
       "      <td>micrometers (um)</td>\n",
       "      <td>NaN</td>\n",
       "      <td>NaN</td>\n",
       "      <td>NaN</td>\n",
       "      <td>NaN</td>\n",
       "      <td>NaN</td>\n",
       "      <td>NaN</td>\n",
       "    </tr>\n",
       "    <tr>\n",
       "      <th>4</th>\n",
       "      <td>Filter_type</td>\n",
       "      <td>Filter type used for particle fraction (Nitex,...</td>\n",
       "      <td>NaN</td>\n",
       "      <td>unitless</td>\n",
       "      <td>NaN</td>\n",
       "      <td>NaN</td>\n",
       "      <td>NaN</td>\n",
       "      <td>NaN</td>\n",
       "      <td>NaN</td>\n",
       "      <td>NaN</td>\n",
       "    </tr>\n",
       "  </tbody>\n",
       "</table>\n",
       "</div>"
      ],
      "text/plain": [
       "  var_short_name                                      var_long_name  \\\n",
       "0      Sample_ID                                 Internal sample ID   \n",
       "1         Cruise                        BIOSSCOPE cruise identifier   \n",
       "2           Date                            <p>Date of sampling</p>   \n",
       "3  Size_fraction             Particle size range for water fraction   \n",
       "4    Filter_type  Filter type used for particle fraction (Nitex,...   \n",
       "\n",
       "  var_sensor          var_unit var_spatial_res var_temporal_res  \\\n",
       "0        NaN          unitless             NaN              NaN   \n",
       "1        NaN          unitless             NaN              NaN   \n",
       "2        NaN          unitless             NaN              NaN   \n",
       "3        NaN  micrometers (um)             NaN              NaN   \n",
       "4        NaN          unitless             NaN              NaN   \n",
       "\n",
       "  var_discipline visualize var_keywords var_comment  \n",
       "0            NaN       NaN          NaN         NaN  \n",
       "1            NaN       NaN          NaN         NaN  \n",
       "2            NaN       NaN          NaN         NaN  \n",
       "3            NaN       NaN          NaN         NaN  \n",
       "4            NaN       NaN          NaN         NaN  "
      ]
     },
     "execution_count": 44,
     "metadata": {},
     "output_type": "execute_result"
    }
   ],
   "source": [
    "df2.head()"
   ]
  },
  {
   "cell_type": "code",
   "execution_count": null,
   "id": "7ddfc06d-8adb-4638-9f5a-55772783d27c",
   "metadata": {},
   "outputs": [],
   "source": []
  },
  {
   "cell_type": "code",
   "execution_count": null,
   "id": "591bc8d7-f5b5-483d-a000-2a34094da91f",
   "metadata": {},
   "outputs": [],
   "source": []
  },
  {
   "cell_type": "code",
   "execution_count": 16,
   "id": "5ca18f63-67d8-4fcc-9fb2-25632cd4c607",
   "metadata": {},
   "outputs": [],
   "source": [
    "idx=0\n"
   ]
  },
  {
   "cell_type": "code",
   "execution_count": 45,
   "id": "bf0600df-90b7-4462-9e53-456033d75dbf",
   "metadata": {},
   "outputs": [],
   "source": [
    "#metadata about the project    \n",
    "# finally gather up the dataset_meta_data: for now I just wrote the information here, I might setup in a separate text file later\n",
    "#pdb.set_trace()\n",
    "df3 = pd.DataFrame({\n",
    "    'dataset_short_name': ['BIOSSCOPE_v1'],\n",
    "    'dataset_long_name': ['BIOS-SCOPE_' + exportFile],\n",
    "    'dataset_version': ['1.0'],\n",
    "    'dataset_release_date': ['2025-06-25'],\n",
    "    'dataset_make': ['observation'],\n",
    "    'dataset_source': ['Hilary Close, University of Miami Rosenstiel School of Marine and Atmospheric Science'],\n",
    "    'dataset_distributor': ['Hilary Close, University of Miami Rosenstiel School of Marine and Atmospheric Science'],\n",
    "    'dataset_acknowledgement': ['We thank the BIOS-SCOPE project team and the BATS team for assistance with sample collection, processing, and analysis. The efforts of the captains, crew, and marine technicians of the R/V Atlantic Explorer are a key aspect of the success of this project. This work supported by funding from the Simons Foundation International.'],\n",
    "    'dataset_history': [''],\n",
    "    'dataset_description': ['blah blah'],\n",
    "    'dataset_references': ['Henderson, L.C., Wittmers, F., Carlson, C. A., Worden, A.Z., & Close, H. G. (2024. Variable carbon isotope fractionation of photosynthetic communities over depth in an open-ocean euphotic zone. Proceedings of the National Academy of Sciences, 121(10). https://doi.org/10.1073/pnas.2304613121'],\n",
    "    'climatology': [0]\n",
    "    })\n",
    "\n",
    "#get the list of cruise names from the bcodmo data file\n",
    "t = pd.DataFrame(bcodmo['Cruise'].unique())\n",
    "t.columns = ['cruise_names']\n",
    "df3 = pd.concat([df3,t],axis=1,ignore_index = True)\n",
    "  \n",
    "#export the result as an Excel file with three tabs\n",
    "#make the data folder if it is not already there (it is in .gitignore, so it will not end up at GitHub)\n",
    "folder = \"data\"\n",
    "os.chdir(\".\")"
   ]
  },
  {
   "cell_type": "code",
   "execution_count": 47,
   "id": "abea9b27-7e35-4843-8804-6076380cddad",
   "metadata": {},
   "outputs": [
    {
     "name": "stdout",
     "output_type": "stream",
     "text": [
      "Data will go here: C:\\Users\\klongnecker\\Documents\\Dropbox\\GitHub_espresso\\BWrepos\\data\\964826_v1_pump_poc_pon_biosscope\n"
     ]
    }
   ],
   "source": [
    "if os.path.isdir(folder):\n",
    "    print(\"Data will go here: %s\" % (os.getcwd()) + '\\\\' + folder + '\\\\' + exportFile)\n",
    "else:\n",
    "    os.mkdir(folder)\n",
    "\n",
    "fName_CMAP = 'data/' + 'BIOSSCOPE_' + exportFile + '.xlsx' \n",
    "dataset_names = {'data': df, 'dataset_meta_data': df3, 'vars_meta_data': df2}\n",
    "with pd.ExcelWriter(fName_CMAP) as writer:\n",
    "    for sheet_name, data in dataset_names.items():\n",
    "        data.to_excel(writer, sheet_name=sheet_name, index=False)"
   ]
  },
  {
   "cell_type": "code",
   "execution_count": null,
   "id": "61c27ca2-b5b7-4890-b641-74efd4bbc242",
   "metadata": {},
   "outputs": [],
   "source": []
  },
  {
   "cell_type": "code",
   "execution_count": 46,
   "id": "1e5fc235-55c8-48af-bd1b-3cfec6ba98ca",
   "metadata": {},
   "outputs": [],
   "source": [
    "fName_CMAP = 'test.xlsx' \n",
    "dataset_names = {'data': df, 'dataset_meta_data': df3, 'vars_meta_data': df2}\n",
    "with pd.ExcelWriter(fName_CMAP) as writer:\n",
    "    for sheet_name, data in dataset_names.items():\n",
    "        data.to_excel(writer, sheet_name=sheet_name, index=False)"
   ]
  },
  {
   "cell_type": "code",
   "execution_count": null,
   "id": "3814f7f8-dbd8-4d61-8cd5-1b30611e1fcf",
   "metadata": {},
   "outputs": [],
   "source": [
    "# Make a function that searches for bcodmo:name and returns bcodmo:description and bcodmo:units\n",
    "# input: md --> the list of parameters for one dataset\n",
    "def getDetails(md,bcodmo_name):\n",
    "    \"\"\"\n",
    "    Take the list of information from BCO-DMO, search for a name, and return the description and units for that name\n",
    "    \"\"\"\n",
    "    for i, item in enumerate(md):\n",
    "        if item['bcodmo:name'] == bcodmo_name:\n",
    "            #actually want the descrption, so return that\n",
    "            description = item['bcodmo:description']\n",
    "            units = item['bcodmo:units']\n",
    "\n",
    "    return description, units"
   ]
  },
  {
   "cell_type": "code",
   "execution_count": null,
   "id": "ff8fdb93-e26f-429c-bb98-9a9c14872cfb",
   "metadata": {},
   "outputs": [],
   "source": []
  },
  {
   "cell_type": "code",
   "execution_count": null,
   "id": "8ee2444e-6a42-4da5-a193-3ff389aa7a68",
   "metadata": {
    "id": "8ee2444e-6a42-4da5-a193-3ff389aa7a68",
    "outputId": "4421524b-9b02-4f98-a12b-3c59b3d20ead"
   },
   "outputs": [],
   "source": [
    "#raise UserWarning('Stopping and leave code below for historical reasons, code will not run')"
   ]
  },
  {
   "cell_type": "code",
   "execution_count": null,
   "id": "8e6f55de-ce64-4a35-85c8-646c62fa2c13",
   "metadata": {},
   "outputs": [],
   "source": [
    "#was heading down this path and using out as a dictionary, leave for now in case I come back to this.\n",
    "# out = {};\n",
    "# for idx,item in enumerate(biosscope.resources):\n",
    "#     justFile = item.name;\n",
    "#     #pdb.set_trace()\n",
    "#     out.update({'file':justFile})\n",
    "#     if justFile == '920443_v1_biosscope_in_situ_pump_chemical_data':\n",
    "#         print('yes')\n",
    "#         out.update({'toDo':'addDepth'})\n",
    "        \n",
    "#     #out.append(justFile)\n",
    "\n",
    "# out #this will be a list, iterate through the files on this list"
   ]
  }
 ],
 "metadata": {
  "colab": {
   "provenance": []
  },
  "kernelspec": {
   "display_name": "Python 3 (ipykernel)",
   "language": "python",
   "name": "python3"
  },
  "language_info": {
   "codemirror_mode": {
    "name": "ipython",
    "version": 3
   },
   "file_extension": ".py",
   "mimetype": "text/x-python",
   "name": "python",
   "nbconvert_exporter": "python",
   "pygments_lexer": "ipython3",
   "version": "3.11.7"
  }
 },
 "nbformat": 4,
 "nbformat_minor": 5
}
