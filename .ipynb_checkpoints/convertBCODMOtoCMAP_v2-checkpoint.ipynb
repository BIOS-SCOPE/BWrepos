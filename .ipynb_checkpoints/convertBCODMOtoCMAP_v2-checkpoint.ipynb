{
 "cells": [
  {
   "cell_type": "markdown",
   "id": "a9efb115-054a-4922-9312-dba2564fd872",
   "metadata": {
    "id": "a9efb115-054a-4922-9312-dba2564fd872"
   },
   "source": [
    "# convertBCODMOtoCMAP\n",
    "Krista Longnecker, 2 July 2025\\\n",
    "Run this after running getBCODMOinfo.ipynb\\\n",
    "Once you have the information from BCO-DMO dataset in hand, use this to make it into the format required by CMAP.\\\n",
    "Note: this version puts most of the code into a separate python script (convert.py) to make it easier to run through multiple data files."
   ]
  },
  {
   "cell_type": "code",
   "execution_count": 1,
   "id": "6edb5289-064f-42ff-a807-68dcc169a7b6",
   "metadata": {
    "id": "6edb5289-064f-42ff-a807-68dcc169a7b6"
   },
   "outputs": [],
   "source": [
    "#some of these are residual from assembling the data file, keep for now.\n",
    "import pandas as pd\n",
    "import requests\n",
    "import os\n",
    "import json\n",
    "import re\n",
    "import pdb\n",
    "\n",
    "from datetime import datetime, timedelta, timezone\n",
    "from SPARQLWrapper import SPARQLWrapper, POST, JSON\n",
    "from frictionless import describe, Package"
   ]
  },
  {
   "cell_type": "code",
   "execution_count": 2,
   "id": "b8e537cf-1082-4559-9320-12a8bddb03bb",
   "metadata": {
    "id": "b8e537cf-1082-4559-9320-12a8bddb03bb"
   },
   "outputs": [],
   "source": [
    "# Make a function that searches for bcodmo:name and returns bcodmo:description and bcodmo:units\n",
    "# input: md --> the list of parameters for one dataset\n",
    "def getDetails(md,bcodmo_name):\n",
    "    \"\"\"\n",
    "    Take the list of information from BCO-DMO, search for a name, and return the description and units for that name\n",
    "    \"\"\"\n",
    "    for i, item in enumerate(md):\n",
    "        if item['bcodmo:name'] == bcodmo_name:\n",
    "            #actually want the descrption, so return that\n",
    "            description = item['bcodmo:description']\n",
    "            units = item['bcodmo:units']\n",
    "\n",
    "    return description, units"
   ]
  },
  {
   "cell_type": "code",
   "execution_count": 3,
   "id": "7b33016a-3190-4863-964f-8a9976672387",
   "metadata": {
    "id": "7b33016a-3190-4863-964f-8a9976672387"
   },
   "outputs": [],
   "source": [
    "#read in the package that was already made (using getBCODMOinfo.ipynb)\n",
    "biosscope = Package('datapackage.json')\n",
    "# biosscope = Package(JSON_FILE)"
   ]
  },
  {
   "cell_type": "code",
   "execution_count": 4,
   "id": "b2129d21-538d-4711-9138-fe776f1946f0",
   "metadata": {},
   "outputs": [
    {
     "data": {
      "text/plain": [
       "['zooscan_images_bats_ae1614',\n",
       " 'zooscan_images_bats_ae1712',\n",
       " 'zooscan_images_bats_ae1819',\n",
       " 'zooscan_images_bats_ae1830',\n",
       " 'zooscan_bats_biovolume',\n",
       " 'zooscan_mocness_output',\n",
       " 'survey_biogeochemical',\n",
       " '920443_v1_biosscope_in_situ_pump_chemical_data',\n",
       " '964684_v1_amino_acids_biosscope_2021',\n",
       " '964801_v1_pump_carbohydrates_biosscope_2021',\n",
       " '964826_v1_pump_poc_pon_biosscope']"
      ]
     },
     "execution_count": 4,
     "metadata": {},
     "output_type": "execute_result"
    }
   ],
   "source": [
    "out = [];\n",
    "for idx,item in enumerate(biosscope.resources):\n",
    "    justFile = item.name;\n",
    "    #pdb.set_trace()\n",
    "    out.append(justFile)\n",
    "\n",
    "out #this will be a list, iterate through the files on this list \n",
    "#leave here so I see the filenames might not need the actual list"
   ]
  },
  {
   "cell_type": "code",
   "execution_count": 5,
   "id": "0aa6ab33-1bac-4e7f-8645-582ddf3feb9e",
   "metadata": {},
   "outputs": [],
   "source": [
    "#most datasets need additional processing to get depth and/or time. \n",
    "#Set up a table here to note what needs to be done, use later to spin off to other scripts.\n",
    "toSkip = {'zooscan_images_bats_ae1614', #these actually will not match below bc do not end in csv\n",
    " 'zooscan_images_bats_ae1712',\n",
    " 'zooscan_images_bats_ae1819',\n",
    " 'zooscan_images_bats_ae1830'}\n",
    "addDepth = {'920443_v1_biosscope_in_situ_pump_chemical_data',\n",
    " '964684_v1_amino_acids_biosscope_2021',\n",
    " '964801_v1_pump_carbohydrates_biosscope_2021',\n",
    " '964826_v1_pump_poc_pon_biosscope'}\n",
    "toMerge = {'zooscan_bats_biovolume',\n",
    " 'zooscan_mocness_output'}\n",
    "useAsIs = {'survey_biogeochemical'};"
   ]
  },
  {
   "cell_type": "markdown",
   "id": "4fcdfaa2-c137-4c64-b851-9fc5fd2470d9",
   "metadata": {
    "id": "4fcdfaa2-c137-4c64-b851-9fc5fd2470d9"
   },
   "source": [
    "# Start working with a data file"
   ]
  },
  {
   "cell_type": "code",
   "execution_count": 6,
   "id": "130ca57d-5dbb-48b2-bb4e-2f331c71dab6",
   "metadata": {},
   "outputs": [],
   "source": [
    "# import convert #this is the function, run this cell if I have made an edit to convert.py\n",
    "# import convert_pumpData"
   ]
  },
  {
   "cell_type": "code",
   "execution_count": 32,
   "id": "bedd6ec9-93f0-44ff-8a07-9e5ff0a0975a",
   "metadata": {},
   "outputs": [
    {
     "name": "stdout",
     "output_type": "stream",
     "text": [
      "toMerge zooscan_bats_biovolume\n",
      "toMerge zooscan_mocness_output\n",
      "Data will go here: C:\\Users\\klongnecker\\Documents\\Dropbox\\GitHub_espresso\\BWrepos\\data\n",
      "Data will go here: C:\\Users\\klongnecker\\Documents\\Dropbox\\GitHub_espresso\\BWrepos\\data\n",
      "Data will go here: C:\\Users\\klongnecker\\Documents\\Dropbox\\GitHub_espresso\\BWrepos\\data\n",
      "Data will go here: C:\\Users\\klongnecker\\Documents\\Dropbox\\GitHub_espresso\\BWrepos\\data\n",
      "Data will go here: C:\\Users\\klongnecker\\Documents\\Dropbox\\GitHub_espresso\\BWrepos\\data\n"
     ]
    }
   ],
   "source": [
    "for idx in range(len(biosscope.resources)):\n",
    "    data_url = biosscope.resources[idx].path\n",
    "    if data_url.endswith('.csv'):\n",
    "        checkFile = re.split('/',data_url).pop().replace('.csv','')\n",
    "        #print(data_url)\n",
    "        #have a few options and trying to group these based on added steps needed to make the data file ready\n",
    "        if checkFile in toSkip:\n",
    "            print('skip ' + checkFile)\n",
    "        elif checkFile in addDepth:\n",
    "            %run convert_pumpData.py {idx}   \n",
    "        elif checkFile in toMerge:\n",
    "            print('toMerge ' + checkFile)\n",
    "        elif checkFile in useAsIs:\n",
    "            %run convert.py {idx}   \n",
    "        else:\n",
    "            print('no match ' + checkFile)"
   ]
  },
  {
   "cell_type": "code",
   "execution_count": null,
   "id": "84039b2c-a438-494a-ad35-06b1406e398c",
   "metadata": {},
   "outputs": [],
   "source": []
  },
  {
   "cell_type": "code",
   "execution_count": null,
   "id": "ccc90785-3bfc-4dd9-b34f-a03f4864d4bd",
   "metadata": {},
   "outputs": [],
   "source": []
  },
  {
   "cell_type": "code",
   "execution_count": 13,
   "id": "03ed45b3-2c3a-4e27-84c8-26ff4f232bb1",
   "metadata": {},
   "outputs": [
    {
     "data": {
      "text/plain": [
       "'964684_v1_amino_acids_biosscope_2021'"
      ]
     },
     "execution_count": 13,
     "metadata": {},
     "output_type": "execute_result"
    }
   ],
   "source": [
    "idx = 8\n",
    "data_url = biosscope.resources[idx].path\n",
    "checkFile = re.split('/',data_url).pop().replace('.csv','')\n",
    "checkFile"
   ]
  },
  {
   "cell_type": "code",
   "execution_count": null,
   "id": "82f7b347-26f2-4c3e-82bc-372fbf300609",
   "metadata": {},
   "outputs": [],
   "source": []
  },
  {
   "cell_type": "code",
   "execution_count": null,
   "id": "eb20dd9b-b6dc-44e7-b53d-572595b0d8b8",
   "metadata": {},
   "outputs": [],
   "source": []
  },
  {
   "cell_type": "code",
   "execution_count": 14,
   "id": "9448cf8c-9650-49e4-9e3c-94677e51fb39",
   "metadata": {},
   "outputs": [],
   "source": [
    " #to do: figure out a better way to do this so I am not reading in the json file every time\n",
    "biosscope = Package('datapackage.json')\n",
    "\n",
    "data_url = biosscope.resources[idx].path\n",
    "md = biosscope.resources[idx].custom['bcodmo:parameters'] #this is a list, don't forget 'custom' (!!)\n",
    "\n",
    "#make a short name out of the data_url, will use this as part of the name for the final Excel file \n",
    "exportFile = re.split('/',data_url).pop().replace('.csv','')\n",
    "\n",
    "#super easy to work with the CSV file once I have the URL\n",
    "#pdb.set_trace()\n",
    "bcodmo = pd.read_csv(data_url,na_values = ['nd']) #now I have NaN...but they get dropped when writing the file\n",
    "    \n",
    "# Required variables are time, lat, lon, depth\n",
    "df = pd.DataFrame(columns=['time','lat','lon','depth'])\n",
    "    "
   ]
  },
  {
   "cell_type": "code",
   "execution_count": 24,
   "id": "24e53a57-e6a4-4d69-baa9-3c2ceb92e3c0",
   "metadata": {},
   "outputs": [
    {
     "data": {
      "text/plain": [
       "{'name': '964826_v1_pump_poc_pon_biosscope',\n",
       " 'type': 'table',\n",
       " 'sources': [{'path': 'http://lod.bco-dmo.org/id/dataset/964826',\n",
       "              'title': 'Size Fractionated Particulate Organic Carbon (POC) and '\n",
       "                       'Particulate Organic Nitrogen (PON) collected during '\n",
       "                       'BIOS-SCOPE cruises (2018-2023) aboard the R/V Atlantic '\n",
       "                       'Explorer',\n",
       "              'doi': '10.26008/1912/bco-dmo.964826.1'}],\n",
       " 'path': 'https://datadocs.bco-dmo.org/file/m7zBJ4GTjvNzDY/964826_v1_pump_poc_pon_biosscope.csv',\n",
       " 'scheme': 'https',\n",
       " 'format': 'csv',\n",
       " 'mediatype': 'text/csv',\n",
       " 'encoding': 'utf-8',\n",
       " 'hash': 'sha256:200d2c23655f49782528ad632b6d8eabd872fbff0ab10e53a771864e688e5d8f',\n",
       " 'bytes': 11648,\n",
       " 'fields': 15,\n",
       " 'rows': 149,\n",
       " 'schema': {'fields': [{'name': 'Sample_ID', 'type': 'string'},\n",
       "                       {'name': 'Cruise', 'type': 'string'},\n",
       "                       {'name': 'Latitude', 'type': 'number'},\n",
       "                       {'name': 'Longitude', 'type': 'number'},\n",
       "                       {'name': 'Date', 'type': 'date'},\n",
       "                       {'name': 'Size_fraction', 'type': 'string'},\n",
       "                       {'name': 'Filter_type', 'type': 'string'},\n",
       "                       {'name': 'Depth', 'type': 'integer'},\n",
       "                       {'name': 'Depth_sd', 'type': 'integer'},\n",
       "                       {'name': 'PN', 'type': 'number'},\n",
       "                       {'name': 'PN_sd', 'type': 'number'},\n",
       "                       {'name': 'POC', 'type': 'number'},\n",
       "                       {'name': 'POC_sd', 'type': 'number'},\n",
       "                       {'name': 'CN_acnonac', 'type': 'number'},\n",
       "                       {'name': 'CN_acnonac_sd', 'type': 'number'}]},\n",
       " 'bcodmo:parameters': [{'bcodmo:name': 'Sample_ID',\n",
       "                        'bcodmo:description': 'Internal sample ID',\n",
       "                        'bcodmo:datatype': 'string',\n",
       "                        'bcodmo:units': 'unitless'},\n",
       "                       {'bcodmo:name': 'Cruise',\n",
       "                        'bcodmo:description': 'BIOSSCOPE cruise identifier',\n",
       "                        'bcodmo:datatype': 'string',\n",
       "                        'bcodmo:units': 'unitless'},\n",
       "                       {'bcodmo:name': 'Latitude',\n",
       "                        'bcodmo:description': '<p>Latitude of sampling</p>',\n",
       "                        'bcodmo:datatype': 'number',\n",
       "                        'bcodmo:units': 'decimal degrees'},\n",
       "                       {'bcodmo:name': 'Longitude',\n",
       "                        'bcodmo:description': '<p>Longitude of sampling</p>',\n",
       "                        'bcodmo:datatype': 'number',\n",
       "                        'bcodmo:units': 'decimal degrees'},\n",
       "                       {'bcodmo:name': 'Date',\n",
       "                        'bcodmo:description': '<p>Date of sampling</p>',\n",
       "                        'bcodmo:datatype': 'date',\n",
       "                        'bcodmo:units': 'unitless',\n",
       "                        'bcodmo:valueFormat': '%Y-%m-%d'},\n",
       "                       {'bcodmo:name': 'Size_fraction',\n",
       "                        'bcodmo:description': 'Particle size range for water '\n",
       "                                              'fraction',\n",
       "                        'bcodmo:datatype': 'string',\n",
       "                        'bcodmo:units': 'micrometers (um)'},\n",
       "                       {'bcodmo:name': 'Filter_type',\n",
       "                        'bcodmo:description': 'Filter type used for particle '\n",
       "                                              'fraction (Nitex, GF/C ,GF75)',\n",
       "                        'bcodmo:datatype': 'string',\n",
       "                        'bcodmo:units': 'unitless'},\n",
       "                       {'bcodmo:name': 'Depth',\n",
       "                        'bcodmo:description': '<p>Water column depth of sample '\n",
       "                                              'averaged over sampling period '\n",
       "                                              '(duration of pump time)</p>',\n",
       "                        'bcodmo:datatype': 'number',\n",
       "                        'bcodmo:units': 'meters (m)'},\n",
       "                       {'bcodmo:name': 'Depth_sd',\n",
       "                        'bcodmo:description': 'standard deviation of the depth',\n",
       "                        'bcodmo:datatype': 'number',\n",
       "                        'bcodmo:units': 'meters (m)'},\n",
       "                       {'bcodmo:name': 'PN',\n",
       "                        'bcodmo:description': 'PN; average bulk particulate '\n",
       "                                              'nitrogen (one sample filter '\n",
       "                                              'analyzed, replicate blanks used '\n",
       "                                              'to incorporate uncertainty)',\n",
       "                        'bcodmo:datatype': 'number',\n",
       "                        'bcodmo:units': 'micrograms per liter (ug/L)'},\n",
       "                       {'bcodmo:name': 'PN_sd',\n",
       "                        'bcodmo:description': 'standard deviation for bulk '\n",
       "                                              'particulate nitrogen',\n",
       "                        'bcodmo:datatype': 'number',\n",
       "                        'bcodmo:units': 'micrograms per liter (ug/L)'},\n",
       "                       {'bcodmo:name': 'POC',\n",
       "                        'bcodmo:description': 'POC; average bulk particulate '\n",
       "                                              'organic carbon (one sample '\n",
       "                                              'filter analyzed, replicate '\n",
       "                                              'blanks used to incorporate '\n",
       "                                              'uncertainty)',\n",
       "                        'bcodmo:datatype': 'number',\n",
       "                        'bcodmo:units': 'micrograms per liter (ug/L)'},\n",
       "                       {'bcodmo:name': 'POC_sd',\n",
       "                        'bcodmo:description': 'standard deviation for bulk '\n",
       "                                              'particulate organic carbon',\n",
       "                        'bcodmo:datatype': 'number',\n",
       "                        'bcodmo:units': 'micrograms per liter (ug/L)'},\n",
       "                       {'bcodmo:name': 'CN_acnonac',\n",
       "                        'bcodmo:description': 'Carbon to nitrogen ratio of '\n",
       "                                              'acidified POC to non-acidified '\n",
       "                                              'PN',\n",
       "                        'bcodmo:datatype': 'number',\n",
       "                        'bcodmo:units': 'mole to mole (mol/mol)'},\n",
       "                       {'bcodmo:name': 'CN_acnonac_sd',\n",
       "                        'bcodmo:description': 'standard deviation of CN ratio '\n",
       "                                              '(propagated error from POC and '\n",
       "                                              'PN)',\n",
       "                        'bcodmo:datatype': 'number',\n",
       "                        'bcodmo:units': 'mole to mole (mol/mol)'}]}"
      ]
     },
     "execution_count": 24,
     "metadata": {},
     "output_type": "execute_result"
    }
   ],
   "source": [
    "biosscope.resources[idx]"
   ]
  },
  {
   "cell_type": "code",
   "execution_count": null,
   "id": "3814f7f8-dbd8-4d61-8cd5-1b30611e1fcf",
   "metadata": {},
   "outputs": [],
   "source": []
  },
  {
   "cell_type": "code",
   "execution_count": null,
   "id": "ff8fdb93-e26f-429c-bb98-9a9c14872cfb",
   "metadata": {},
   "outputs": [],
   "source": []
  },
  {
   "cell_type": "code",
   "execution_count": null,
   "id": "8ee2444e-6a42-4da5-a193-3ff389aa7a68",
   "metadata": {
    "id": "8ee2444e-6a42-4da5-a193-3ff389aa7a68",
    "outputId": "4421524b-9b02-4f98-a12b-3c59b3d20ead"
   },
   "outputs": [],
   "source": [
    "#raise UserWarning('Stopping and leave code below for historical reasons, code will not run')"
   ]
  },
  {
   "cell_type": "code",
   "execution_count": null,
   "id": "8e6f55de-ce64-4a35-85c8-646c62fa2c13",
   "metadata": {},
   "outputs": [],
   "source": [
    "#was heading down this path and using out as a dictionary, leave for now in case I come back to this.\n",
    "# out = {};\n",
    "# for idx,item in enumerate(biosscope.resources):\n",
    "#     justFile = item.name;\n",
    "#     #pdb.set_trace()\n",
    "#     out.update({'file':justFile})\n",
    "#     if justFile == '920443_v1_biosscope_in_situ_pump_chemical_data':\n",
    "#         print('yes')\n",
    "#         out.update({'toDo':'addDepth'})\n",
    "        \n",
    "#     #out.append(justFile)\n",
    "\n",
    "# out #this will be a list, iterate through the files on this list"
   ]
  }
 ],
 "metadata": {
  "colab": {
   "provenance": []
  },
  "kernelspec": {
   "display_name": "Python 3 (ipykernel)",
   "language": "python",
   "name": "python3"
  },
  "language_info": {
   "codemirror_mode": {
    "name": "ipython",
    "version": 3
   },
   "file_extension": ".py",
   "mimetype": "text/x-python",
   "name": "python",
   "nbconvert_exporter": "python",
   "pygments_lexer": "ipython3",
   "version": "3.11.7"
  }
 },
 "nbformat": 4,
 "nbformat_minor": 5
}
