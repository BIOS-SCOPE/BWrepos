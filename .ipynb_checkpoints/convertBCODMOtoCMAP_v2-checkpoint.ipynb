{
 "cells": [
  {
   "cell_type": "markdown",
   "id": "a9efb115-054a-4922-9312-dba2564fd872",
   "metadata": {
    "id": "a9efb115-054a-4922-9312-dba2564fd872"
   },
   "source": [
    "# convertBCODMOtoCMAP\n",
    "Krista Longnecker, 2 July 2025\\\n",
    "Run this after running getBCODMOinfo.ipynb\\\n",
    "Once you have the information from BCO-DMO dataset in hand, use this to make it into the format required by CMAP.\\\n",
    "Note: this version puts most of the code into a separate python script (convert.py) to make it easier to run through multiple data files."
   ]
  },
  {
   "cell_type": "code",
   "execution_count": null,
   "id": "6edb5289-064f-42ff-a807-68dcc169a7b6",
   "metadata": {
    "id": "6edb5289-064f-42ff-a807-68dcc169a7b6"
   },
   "outputs": [],
   "source": [
    "#some of these are residual from assembling the data file, keep for now.\n",
    "import pandas as pd\n",
    "import requests\n",
    "import os\n",
    "import json\n",
    "import re\n",
    "import pdb\n",
    "\n",
    "from datetime import datetime, timedelta, timezone\n",
    "from SPARQLWrapper import SPARQLWrapper, POST, JSON\n",
    "from frictionless import describe, Package"
   ]
  },
  {
   "cell_type": "code",
   "execution_count": null,
   "id": "b8e537cf-1082-4559-9320-12a8bddb03bb",
   "metadata": {
    "id": "b8e537cf-1082-4559-9320-12a8bddb03bb"
   },
   "outputs": [],
   "source": [
    "# Make a function that searches for bcodmo:name and returns bcodmo:description and bcodmo:units\n",
    "# input: md --> the list of parameters for one dataset\n",
    "def getDetails(md,bcodmo_name):\n",
    "    \"\"\"\n",
    "    Take the list of information from BCO-DMO, search for a name, and return the description and units for that name\n",
    "    \"\"\"\n",
    "    for i, item in enumerate(md):\n",
    "        if item['bcodmo:name'] == bcodmo_name:\n",
    "            #actually want the descrption, so return that\n",
    "            description = item['bcodmo:description']\n",
    "            units = item['bcodmo:units']\n",
    "\n",
    "    return description, units"
   ]
  },
  {
   "cell_type": "code",
   "execution_count": null,
   "id": "7b33016a-3190-4863-964f-8a9976672387",
   "metadata": {
    "id": "7b33016a-3190-4863-964f-8a9976672387"
   },
   "outputs": [],
   "source": [
    "#read in the package that was already made (using getBCODMOinfo.ipynb)\n",
    "biosscope = Package('datapackage.json')\n",
    "# biosscope = Package(JSON_FILE)"
   ]
  },
  {
   "cell_type": "code",
   "execution_count": null,
   "id": "b2129d21-538d-4711-9138-fe776f1946f0",
   "metadata": {},
   "outputs": [],
   "source": [
    "out = [];\n",
    "for idx,item in enumerate(biosscope.resources):\n",
    "    justFile = item.name;\n",
    "    #pdb.set_trace()\n",
    "    out.append(justFile)\n",
    "\n",
    "out #this will be a list, iterate through the files on this list \n",
    "#leave here so I see the filenames might not need the actual list"
   ]
  },
  {
   "cell_type": "code",
   "execution_count": null,
   "id": "0aa6ab33-1bac-4e7f-8645-582ddf3feb9e",
   "metadata": {},
   "outputs": [],
   "source": [
    "#most datasets need additional processing to get depth and/or time. \n",
    "#Set up a table here to note what needs to be done, use later to spin off to other scripts.\n",
    "toSkip = {'zooscan_images_bats_ae1614', #these actually will not match below bc do not end in csv\n",
    " 'zooscan_images_bats_ae1712',\n",
    " 'zooscan_images_bats_ae1819',\n",
    " 'zooscan_images_bats_ae1830'}\n",
    "addDepth = {'920443_v1_biosscope_in_situ_pump_chemical_data',\n",
    " '964684_v1_amino_acids_biosscope_2021',\n",
    " '964801_v1_pump_carbohydrates_biosscope_2021',\n",
    " '964826_v1_pump_poc_pon_biosscope'}\n",
    "toMerge = {'zooscan_bats_biovolume',\n",
    " 'zooscan_mocness_output'}\n",
    "useAsIs = {'survey_biogeochemical'};"
   ]
  },
  {
   "cell_type": "markdown",
   "id": "4fcdfaa2-c137-4c64-b851-9fc5fd2470d9",
   "metadata": {
    "id": "4fcdfaa2-c137-4c64-b851-9fc5fd2470d9"
   },
   "source": [
    "# Start working with a data file"
   ]
  },
  {
   "cell_type": "code",
   "execution_count": 7,
   "id": "130ca57d-5dbb-48b2-bb4e-2f331c71dab6",
   "metadata": {},
   "outputs": [],
   "source": [
    "# import convert #this is the function, run this cell if I have made an edit to convert.py\n",
    "# import convert_pumpData"
   ]
  },
  {
   "cell_type": "code",
   "execution_count": null,
   "id": "bedd6ec9-93f0-44ff-8a07-9e5ff0a0975a",
   "metadata": {},
   "outputs": [
    {
     "name": "stdout",
     "output_type": "stream",
     "text": [
      "toMerge zooscan_bats_biovolume\n",
      "toMerge zooscan_mocness_output\n",
      "Data will go here: C:\\Users\\klongnecker\\Documents\\Dropbox\\GitHub_espresso\\BWrepos\\data\n",
      "> \u001b[1;32mc:\\users\\klongnecker\\documents\\dropbox\\github_espresso\\bwrepos\\convert_pumpdata.py\u001b[0m(105)\u001b[0;36mmain\u001b[1;34m()\u001b[0m\n",
      "\u001b[1;32m    103 \u001b[1;33m        \u001b[0ma\u001b[0m\u001b[1;33m,\u001b[0m\u001b[0mb\u001b[0m \u001b[1;33m=\u001b[0m \u001b[0mgetDetails\u001b[0m\u001b[1;33m(\u001b[0m\u001b[0mmd\u001b[0m\u001b[1;33m,\u001b[0m\u001b[0mdf2\u001b[0m\u001b[1;33m.\u001b[0m\u001b[0mloc\u001b[0m\u001b[1;33m[\u001b[0m\u001b[0midx\u001b[0m\u001b[1;33m,\u001b[0m\u001b[1;34m'var_short_name'\u001b[0m\u001b[1;33m]\u001b[0m\u001b[1;33m)\u001b[0m \u001b[1;31m#getDetails is the function I wrote (see above)\u001b[0m\u001b[1;33m\u001b[0m\u001b[1;33m\u001b[0m\u001b[0m\n",
      "\u001b[0m\u001b[1;32m    104 \u001b[1;33m        \u001b[0mpdb\u001b[0m\u001b[1;33m.\u001b[0m\u001b[0mset_trace\u001b[0m\u001b[1;33m(\u001b[0m\u001b[1;33m)\u001b[0m\u001b[1;33m\u001b[0m\u001b[1;33m\u001b[0m\u001b[0m\n",
      "\u001b[0m\u001b[1;32m--> 105 \u001b[1;33m        \u001b[0mdf2\u001b[0m\u001b[1;33m.\u001b[0m\u001b[0mloc\u001b[0m\u001b[1;33m[\u001b[0m\u001b[0midx\u001b[0m\u001b[1;33m,\u001b[0m\u001b[1;34m'var_long_name'\u001b[0m\u001b[1;33m]\u001b[0m \u001b[1;33m=\u001b[0m \u001b[0ma\u001b[0m\u001b[1;33m\u001b[0m\u001b[1;33m\u001b[0m\u001b[0m\n",
      "\u001b[0m\u001b[1;32m    106 \u001b[1;33m        \u001b[0mdf2\u001b[0m\u001b[1;33m.\u001b[0m\u001b[0mloc\u001b[0m\u001b[1;33m[\u001b[0m\u001b[0midx\u001b[0m\u001b[1;33m,\u001b[0m\u001b[1;34m'var_unit'\u001b[0m\u001b[1;33m]\u001b[0m \u001b[1;33m=\u001b[0m \u001b[0mb\u001b[0m\u001b[1;33m\u001b[0m\u001b[1;33m\u001b[0m\u001b[0m\n",
      "\u001b[0m\u001b[1;32m    107 \u001b[1;33m\u001b[1;33m\u001b[0m\u001b[0m\n",
      "\u001b[0m\n"
     ]
    },
    {
     "name": "stdin",
     "output_type": "stream",
     "text": [
      "ipdb>  a\n",
      "ipdb>  b\n",
      "ipdb>  md\n"
     ]
    },
    {
     "name": "stdout",
     "output_type": "stream",
     "text": [
      "[{'bcodmo:name': 'Sample', 'bcodmo:description': 'Internal sample ID', 'bcodmo:datatype': 'string', 'bcodmo:units': 'unitless'}, {'bcodmo:name': 'Cruise', 'bcodmo:description': 'BIOSSCOPE cruise identifier', 'bcodmo:datatype': 'string', 'bcodmo:units': 'unitless'}, {'bcodmo:name': 'Date', 'bcodmo:description': '<p>Date (local, Bermuda) of sample collection</p>', 'bcodmo:datatype': 'date', 'bcodmo:units': 'unitless', 'bcodmo:valueFormat': '%Y-%m-%d'}, {'bcodmo:name': 'Latitude', 'bcodmo:description': '<p>Latitude of sample collection</p>', 'bcodmo:datatype': 'number', 'bcodmo:units': 'decimal degrees'}, {'bcodmo:name': 'Longitude', 'bcodmo:description': '<p>Longitude of sample collection (negative values = West)</p>', 'bcodmo:datatype': 'number', 'bcodmo:units': 'decimal degrees'}, {'bcodmo:name': 'size_fraction_um', 'bcodmo:description': 'particle size range for water fraction', 'bcodmo:datatype': 'string', 'bcodmo:units': 'micrometers (um)'}, {'bcodmo:name': 'split_type', 'bcodmo:description': 'Condition under which filter was stored and split into fractions for analysis (frozen or freeze dried)', 'bcodmo:datatype': 'string', 'bcodmo:units': 'unitless'}, {'bcodmo:name': 'Depth_m', 'bcodmo:description': '<p>Water column depth of sample</p>', 'bcodmo:datatype': 'integer', 'bcodmo:units': 'meters (m)'}, {'bcodmo:name': 'total_phytol_from_chlorophyll_concentration_ng_L', 'bcodmo:description': 'phytol concentration', 'bcodmo:datatype': 'number', 'bcodmo:units': 'nanograms per liter (ng/L)'}, {'bcodmo:name': 'phytol_concentration_sd_ng_L', 'bcodmo:description': 'phytol concentration standard deviation', 'bcodmo:datatype': 'number', 'bcodmo:units': 'nanograms per liter (ng/L)'}, {'bcodmo:name': 'd13C_phytol_corrected_value_per_mil', 'bcodmo:description': 'stable carbon isotope composition of phytol', 'bcodmo:datatype': 'number', 'bcodmo:units': 'per mil'}, {'bcodmo:name': 'd13C_phytol_sd_per_mil', 'bcodmo:description': 'stable carbon isotope composition of phytol standard deviation', 'bcodmo:datatype': 'number', 'bcodmo:units': 'per mil'}, {'bcodmo:name': 'd13C_POC_per_mil', 'bcodmo:description': 'stable carbon isotope composition of bulk particulate organic carbon', 'bcodmo:datatype': 'number', 'bcodmo:units': 'per mil'}, {'bcodmo:name': 'd13C_POC_sd_per_mil', 'bcodmo:description': 'stable carbon isotope composition of bulk particulate organic carbon standard deviation', 'bcodmo:datatype': 'number', 'bcodmo:units': 'per mil'}, {'bcodmo:name': 'POC_concentration_ug_L', 'bcodmo:description': 'bulk particulate organic carbon', 'bcodmo:datatype': 'number', 'bcodmo:units': 'micrograms per liter (ug/L)'}, {'bcodmo:name': 'd13C_THAA_per_mil', 'bcodmo:description': 'd13C values of total hydrolysable amino acids', 'bcodmo:datatype': 'number', 'bcodmo:units': 'per mil'}, {'bcodmo:name': 'd13C_THAA_sd_per_mil', 'bcodmo:description': 'd13C THAA standard deviation', 'bcodmo:datatype': 'number', 'bcodmo:units': 'per mil'}, {'bcodmo:name': 'TP_from_d15N_AA', 'bcodmo:description': 'POM trophic position (TP) calculated from measured d15N values of glutamic acid+glutamine (Glx) and phenylalanine (Phe) as in Chikaraishi et al. (2009): TP = (d15NGlx - d15NPhe - 3.4)/7.6 + 1 . TP propagated uncertainty was calculated as in Jarman et al. (2017).', 'bcodmo:datatype': 'number', 'bcodmo:units': 'unitless'}, {'bcodmo:name': 'TP_sd', 'bcodmo:description': 'Trophic Position (TP) standard deviation', 'bcodmo:datatype': 'number', 'bcodmo:units': 'unitless'}]\n"
     ]
    },
    {
     "name": "stdin",
     "output_type": "stream",
     "text": [
      "ipdb>  df2.loc[idx,'var_short_name']\n"
     ]
    },
    {
     "name": "stdout",
     "output_type": "stream",
     "text": [
      "'Sample'\n"
     ]
    },
    {
     "name": "stdin",
     "output_type": "stream",
     "text": [
      "ipdb>  md[0]\n"
     ]
    },
    {
     "name": "stdout",
     "output_type": "stream",
     "text": [
      "{'bcodmo:name': 'Sample', 'bcodmo:description': 'Internal sample ID', 'bcodmo:datatype': 'string', 'bcodmo:units': 'unitless'}\n"
     ]
    },
    {
     "name": "stdin",
     "output_type": "stream",
     "text": [
      "ipdb>  for i, item in enumerate(md):\n"
     ]
    },
    {
     "name": "stdout",
     "output_type": "stream",
     "text": [
      "*** IndentationError: expected an indented block after 'for' statement on line 1\n"
     ]
    },
    {
     "name": "stdin",
     "output_type": "stream",
     "text": [
      "ipdb>  md[0]\n"
     ]
    },
    {
     "name": "stdout",
     "output_type": "stream",
     "text": [
      "{'bcodmo:name': 'Sample', 'bcodmo:description': 'Internal sample ID', 'bcodmo:datatype': 'string', 'bcodmo:units': 'unitless'}\n"
     ]
    },
    {
     "name": "stdin",
     "output_type": "stream",
     "text": [
      "ipdb>  description = item['bcodmo:description']\n"
     ]
    },
    {
     "name": "stdout",
     "output_type": "stream",
     "text": [
      "*** TypeError: tuple indices must be integers or slices, not str\n"
     ]
    },
    {
     "name": "stdin",
     "output_type": "stream",
     "text": [
      "ipdb>  item = md[0]\n",
      "ipdb>  item['bcodmo:description']\n"
     ]
    },
    {
     "name": "stdout",
     "output_type": "stream",
     "text": [
      "'Internal sample ID'\n"
     ]
    },
    {
     "name": "stdin",
     "output_type": "stream",
     "text": [
      "ipdb>  item['bcodmo:units']\n"
     ]
    },
    {
     "name": "stdout",
     "output_type": "stream",
     "text": [
      "'unitless'\n"
     ]
    },
    {
     "name": "stdin",
     "output_type": "stream",
     "text": [
      "ipdb>  q\n"
     ]
    },
    {
     "ename": "BdbQuit",
     "evalue": "",
     "output_type": "error",
     "traceback": [
      "\u001b[1;31m---------------------------------------------------------------------------\u001b[0m",
      "\u001b[1;31mBdbQuit\u001b[0m                                   Traceback (most recent call last)",
      "File \u001b[1;32m~\\Documents\\Dropbox\\GitHub_espresso\\BWrepos\\convert_pumpData.py:209\u001b[0m\n\u001b[0;32m    200\u001b[0m \u001b[38;5;66;03m#######################################\u001b[39;00m\n\u001b[0;32m    201\u001b[0m \u001b[38;5;66;03m#                                     #\u001b[39;00m\n\u001b[0;32m    202\u001b[0m \u001b[38;5;66;03m#                                     #\u001b[39;00m\n\u001b[1;32m   (...)\u001b[0m\n\u001b[0;32m    205\u001b[0m \u001b[38;5;66;03m#                                     #\u001b[39;00m\n\u001b[0;32m    206\u001b[0m \u001b[38;5;66;03m#######################################\u001b[39;00m\n\u001b[0;32m    208\u001b[0m \u001b[38;5;28;01mif\u001b[39;00m \u001b[38;5;18m__name__\u001b[39m \u001b[38;5;241m==\u001b[39m \u001b[38;5;124m\"\u001b[39m\u001b[38;5;124m__main__\u001b[39m\u001b[38;5;124m\"\u001b[39m:    \n\u001b[1;32m--> 209\u001b[0m     main()\n",
      "File \u001b[1;32m~\\Documents\\Dropbox\\GitHub_espresso\\BWrepos\\convert_pumpData.py:105\u001b[0m, in \u001b[0;36mmain\u001b[1;34m()\u001b[0m\n\u001b[0;32m    103\u001b[0m     a,b \u001b[38;5;241m=\u001b[39m getDetails(md,df2\u001b[38;5;241m.\u001b[39mloc[idx,\u001b[38;5;124m'\u001b[39m\u001b[38;5;124mvar_short_name\u001b[39m\u001b[38;5;124m'\u001b[39m]) \u001b[38;5;66;03m#getDetails is the function I wrote (see above)\u001b[39;00m\n\u001b[0;32m    104\u001b[0m     pdb\u001b[38;5;241m.\u001b[39mset_trace()\n\u001b[1;32m--> 105\u001b[0m     df2\u001b[38;5;241m.\u001b[39mloc[idx,\u001b[38;5;124m'\u001b[39m\u001b[38;5;124mvar_long_name\u001b[39m\u001b[38;5;124m'\u001b[39m] \u001b[38;5;241m=\u001b[39m a\n\u001b[0;32m    106\u001b[0m     df2\u001b[38;5;241m.\u001b[39mloc[idx,\u001b[38;5;124m'\u001b[39m\u001b[38;5;124mvar_unit\u001b[39m\u001b[38;5;124m'\u001b[39m] \u001b[38;5;241m=\u001b[39m b\n\u001b[0;32m    108\u001b[0m \u001b[38;5;66;03m#for sensor I will need a lookup table as the information at BCO-DMO is not formatted to provide this. There is some\u001b[39;00m\n\u001b[0;32m    109\u001b[0m \u001b[38;5;66;03m#sensor information, but I don't see how it is linked directly to specific measured variables, and more than one variable can match a given sensor.\u001b[39;00m\n\u001b[0;32m    110\u001b[0m \u001b[38;5;66;03m#Later note, probably easier to put this into Excel (see notes below about the CMAP keywords that are required)\u001b[39;00m\n\u001b[1;32m   (...)\u001b[0m\n\u001b[0;32m    144\u001b[0m \u001b[38;5;66;03m# Note that I made the Excel file after I started down this rabbit hole with the sensors. It will probably make sense\u001b[39;00m\n\u001b[0;32m    145\u001b[0m \u001b[38;5;66;03m#to pull the sensor information from the file as well.\u001b[39;00m\n",
      "File \u001b[1;32m~\\anaconda3\\Lib\\bdb.py:90\u001b[0m, in \u001b[0;36mBdb.trace_dispatch\u001b[1;34m(self, frame, event, arg)\u001b[0m\n\u001b[0;32m     88\u001b[0m     \u001b[38;5;28;01mreturn\u001b[39;00m \u001b[38;5;66;03m# None\u001b[39;00m\n\u001b[0;32m     89\u001b[0m \u001b[38;5;28;01mif\u001b[39;00m event \u001b[38;5;241m==\u001b[39m \u001b[38;5;124m'\u001b[39m\u001b[38;5;124mline\u001b[39m\u001b[38;5;124m'\u001b[39m:\n\u001b[1;32m---> 90\u001b[0m     \u001b[38;5;28;01mreturn\u001b[39;00m \u001b[38;5;28mself\u001b[39m\u001b[38;5;241m.\u001b[39mdispatch_line(frame)\n\u001b[0;32m     91\u001b[0m \u001b[38;5;28;01mif\u001b[39;00m event \u001b[38;5;241m==\u001b[39m \u001b[38;5;124m'\u001b[39m\u001b[38;5;124mcall\u001b[39m\u001b[38;5;124m'\u001b[39m:\n\u001b[0;32m     92\u001b[0m     \u001b[38;5;28;01mreturn\u001b[39;00m \u001b[38;5;28mself\u001b[39m\u001b[38;5;241m.\u001b[39mdispatch_call(frame, arg)\n",
      "File \u001b[1;32m~\\anaconda3\\Lib\\bdb.py:115\u001b[0m, in \u001b[0;36mBdb.dispatch_line\u001b[1;34m(self, frame)\u001b[0m\n\u001b[0;32m    113\u001b[0m \u001b[38;5;28;01mif\u001b[39;00m \u001b[38;5;28mself\u001b[39m\u001b[38;5;241m.\u001b[39mstop_here(frame) \u001b[38;5;129;01mor\u001b[39;00m \u001b[38;5;28mself\u001b[39m\u001b[38;5;241m.\u001b[39mbreak_here(frame):\n\u001b[0;32m    114\u001b[0m     \u001b[38;5;28mself\u001b[39m\u001b[38;5;241m.\u001b[39muser_line(frame)\n\u001b[1;32m--> 115\u001b[0m     \u001b[38;5;28;01mif\u001b[39;00m \u001b[38;5;28mself\u001b[39m\u001b[38;5;241m.\u001b[39mquitting: \u001b[38;5;28;01mraise\u001b[39;00m BdbQuit\n\u001b[0;32m    116\u001b[0m \u001b[38;5;28;01mreturn\u001b[39;00m \u001b[38;5;28mself\u001b[39m\u001b[38;5;241m.\u001b[39mtrace_dispatch\n",
      "\u001b[1;31mBdbQuit\u001b[0m: "
     ]
    },
    {
     "name": "stdout",
     "output_type": "stream",
     "text": [
      "> \u001b[1;32mc:\\users\\klongnecker\\documents\\dropbox\\github_espresso\\bwrepos\\convert_pumpdata.py\u001b[0m(105)\u001b[0;36mmain\u001b[1;34m()\u001b[0m\n",
      "\u001b[1;32m    103 \u001b[1;33m        \u001b[0ma\u001b[0m\u001b[1;33m,\u001b[0m\u001b[0mb\u001b[0m \u001b[1;33m=\u001b[0m \u001b[0mgetDetails\u001b[0m\u001b[1;33m(\u001b[0m\u001b[0mmd\u001b[0m\u001b[1;33m,\u001b[0m\u001b[0mdf2\u001b[0m\u001b[1;33m.\u001b[0m\u001b[0mloc\u001b[0m\u001b[1;33m[\u001b[0m\u001b[0midx\u001b[0m\u001b[1;33m,\u001b[0m\u001b[1;34m'var_short_name'\u001b[0m\u001b[1;33m]\u001b[0m\u001b[1;33m)\u001b[0m \u001b[1;31m#getDetails is the function I wrote (see above)\u001b[0m\u001b[1;33m\u001b[0m\u001b[1;33m\u001b[0m\u001b[0m\n",
      "\u001b[0m\u001b[1;32m    104 \u001b[1;33m        \u001b[0mpdb\u001b[0m\u001b[1;33m.\u001b[0m\u001b[0mset_trace\u001b[0m\u001b[1;33m(\u001b[0m\u001b[1;33m)\u001b[0m\u001b[1;33m\u001b[0m\u001b[1;33m\u001b[0m\u001b[0m\n",
      "\u001b[0m\u001b[1;32m--> 105 \u001b[1;33m        \u001b[0mdf2\u001b[0m\u001b[1;33m.\u001b[0m\u001b[0mloc\u001b[0m\u001b[1;33m[\u001b[0m\u001b[0midx\u001b[0m\u001b[1;33m,\u001b[0m\u001b[1;34m'var_long_name'\u001b[0m\u001b[1;33m]\u001b[0m \u001b[1;33m=\u001b[0m \u001b[0ma\u001b[0m\u001b[1;33m\u001b[0m\u001b[1;33m\u001b[0m\u001b[0m\n",
      "\u001b[0m\u001b[1;32m    106 \u001b[1;33m        \u001b[0mdf2\u001b[0m\u001b[1;33m.\u001b[0m\u001b[0mloc\u001b[0m\u001b[1;33m[\u001b[0m\u001b[0midx\u001b[0m\u001b[1;33m,\u001b[0m\u001b[1;34m'var_unit'\u001b[0m\u001b[1;33m]\u001b[0m \u001b[1;33m=\u001b[0m \u001b[0mb\u001b[0m\u001b[1;33m\u001b[0m\u001b[1;33m\u001b[0m\u001b[0m\n",
      "\u001b[0m\u001b[1;32m    107 \u001b[1;33m\u001b[1;33m\u001b[0m\u001b[0m\n",
      "\u001b[0m\n"
     ]
    },
    {
     "name": "stdin",
     "output_type": "stream",
     "text": [
      "ipdb>  item\n"
     ]
    },
    {
     "name": "stdout",
     "output_type": "stream",
     "text": [
      "(0, var_short_name      Sample_ID\n",
      "var_long_name             NaN\n",
      "var_sensor                NaN\n",
      "var_unit                  NaN\n",
      "var_spatial_res           NaN\n",
      "var_temporal_res          NaN\n",
      "var_discipline            NaN\n",
      "visualize                 NaN\n",
      "var_keywords              NaN\n",
      "var_comment               NaN\n",
      "Name: 0, dtype: object)\n"
     ]
    },
    {
     "name": "stdin",
     "output_type": "stream",
     "text": [
      "ipdb>  idx\n"
     ]
    },
    {
     "name": "stdout",
     "output_type": "stream",
     "text": [
      "0\n"
     ]
    },
    {
     "name": "stdin",
     "output_type": "stream",
     "text": [
      "ipdb>  a,b = getDetails(md,df2.loc[idx,'var_short_name'])\n",
      "ipdb>  a\n",
      "ipdb>  b\n"
     ]
    }
   ],
   "source": [
    "for idx in range(len(biosscope.resources)):\n",
    "    data_url = biosscope.resources[idx].path\n",
    "    if data_url.endswith('.csv'):\n",
    "        checkFile = re.split('/',data_url).pop().replace('.csv','')\n",
    "        #print(data_url)\n",
    "        #have a few options and trying to group these based on added steps needed to make the data file ready\n",
    "        if checkFile in toSkip:\n",
    "            print('skip ' + checkFile)\n",
    "        elif checkFile in addDepth:\n",
    "            %run convert_pumpData.py {idx}   \n",
    "        elif checkFile in toMerge:\n",
    "            print('toMerge ' + checkFile)\n",
    "        elif checkFile in useAsIs:\n",
    "            %run convert.py {idx}   \n",
    "        else:\n",
    "            print('no match ' + checkFile)"
   ]
  },
  {
   "cell_type": "code",
   "execution_count": null,
   "id": "84039b2c-a438-494a-ad35-06b1406e398c",
   "metadata": {},
   "outputs": [],
   "source": []
  },
  {
   "cell_type": "code",
   "execution_count": null,
   "id": "ccc90785-3bfc-4dd9-b34f-a03f4864d4bd",
   "metadata": {},
   "outputs": [],
   "source": []
  },
  {
   "cell_type": "code",
   "execution_count": null,
   "id": "03ed45b3-2c3a-4e27-84c8-26ff4f232bb1",
   "metadata": {},
   "outputs": [],
   "source": [
    "idx = 8\n",
    "data_url = biosscope.resources[idx].path\n",
    "checkFile = re.split('/',data_url).pop().replace('.csv','')\n",
    "checkFile"
   ]
  },
  {
   "cell_type": "code",
   "execution_count": null,
   "id": "82f7b347-26f2-4c3e-82bc-372fbf300609",
   "metadata": {},
   "outputs": [],
   "source": []
  },
  {
   "cell_type": "code",
   "execution_count": null,
   "id": "eb20dd9b-b6dc-44e7-b53d-572595b0d8b8",
   "metadata": {},
   "outputs": [],
   "source": []
  },
  {
   "cell_type": "code",
   "execution_count": 10,
   "id": "9448cf8c-9650-49e4-9e3c-94677e51fb39",
   "metadata": {},
   "outputs": [],
   "source": [
    " #to do: figure out a better way to do this so I am not reading in the json file every time\n",
    "biosscope = Package('datapackage.json')\n",
    "\n",
    "data_url = biosscope.resources[idx].path\n",
    "md = biosscope.resources[idx].custom['bcodmo:parameters'] #this is a list, don't forget 'custom' (!!)\n",
    "\n",
    "#make a short name out of the data_url, will use this as part of the name for the final Excel file \n",
    "exportFile = re.split('/',data_url).pop().replace('.csv','')\n",
    "\n",
    "#super easy to work with the CSV file once I have the URL\n",
    "#pdb.set_trace()\n",
    "bcodmo = pd.read_csv(data_url,na_values = ['nd']) #now I have NaN...but they get dropped when writing the file\n",
    "    \n",
    "# Required variables are time, lat, lon, depth\n",
    "df = pd.DataFrame(columns=['time','lat','lon','depth'])\n",
    "    "
   ]
  },
  {
   "cell_type": "code",
   "execution_count": 12,
   "id": "24e53a57-e6a4-4d69-baa9-3c2ceb92e3c0",
   "metadata": {},
   "outputs": [
    {
     "data": {
      "text/plain": [
       "{'name': '964684_v1_amino_acids_biosscope_2021',\n",
       " 'type': 'table',\n",
       " 'sources': [{'path': 'http://lod.bco-dmo.org/id/dataset/964684',\n",
       "              'title': 'Size fractionated Amino Acid data collected in the '\n",
       "                       'Sargasso Sea during BIOS-SCOPE cruises AE2114 and '\n",
       "                       'AE2123 in August and November 2021',\n",
       "              'doi': '10.26008/1912/bco-dmo.964684.1'}],\n",
       " 'path': 'https://datadocs.bco-dmo.org/file/XYG3xXqfkkjG5x/964684_v1_amino_acids_biosscope_2021.csv',\n",
       " 'scheme': 'https',\n",
       " 'format': 'csv',\n",
       " 'mediatype': 'text/csv',\n",
       " 'encoding': 'utf-8',\n",
       " 'hash': 'sha256:2a59aa1c4c9756e85b07b0e79e62be50e3e1a4f334b5aaf037c2a5b0043346bf',\n",
       " 'bytes': 7379,\n",
       " 'fields': 40,\n",
       " 'rows': 33,\n",
       " 'schema': {'fields': [{'name': 'Sample_ID', 'type': 'string'},\n",
       "                       {'name': 'Cruise', 'type': 'string'},\n",
       "                       {'name': 'Latitude', 'type': 'number'},\n",
       "                       {'name': 'Longitude', 'type': 'number'},\n",
       "                       {'name': 'Date', 'type': 'date'},\n",
       "                       {'name': 'Size_fraction', 'type': 'string'},\n",
       "                       {'name': 'Filter_type', 'type': 'string'},\n",
       "                       {'name': 'Depth', 'type': 'integer'},\n",
       "                       {'name': 'Asp', 'type': 'number'},\n",
       "                       {'name': 'Asp_sd', 'type': 'number'},\n",
       "                       {'name': 'Glu', 'type': 'number'},\n",
       "                       {'name': 'Glu_sd', 'type': 'number'},\n",
       "                       {'name': 'HisSer', 'type': 'number'},\n",
       "                       {'name': 'HisSer_sd', 'type': 'number'},\n",
       "                       {'name': 'Arg', 'type': 'number'},\n",
       "                       {'name': 'Arg_sd', 'type': 'number'},\n",
       "                       {'name': 'Thr', 'type': 'number'},\n",
       "                       {'name': 'Thr_sd', 'type': 'number'},\n",
       "                       {'name': 'Gly', 'type': 'number'},\n",
       "                       {'name': 'Gly_sd', 'type': 'number'},\n",
       "                       {'name': 'Bala', 'type': 'number'},\n",
       "                       {'name': 'Bala_sd', 'type': 'number'},\n",
       "                       {'name': 'Tyr', 'type': 'number'},\n",
       "                       {'name': 'Tyr_sd', 'type': 'number'},\n",
       "                       {'name': 'Ala', 'type': 'number'},\n",
       "                       {'name': 'Ala_sd', 'type': 'number'},\n",
       "                       {'name': 'GABA', 'type': 'number'},\n",
       "                       {'name': 'GABA_sd', 'type': 'number'},\n",
       "                       {'name': 'Met', 'type': 'number'},\n",
       "                       {'name': 'Met_sd', 'type': 'number'},\n",
       "                       {'name': 'Val', 'type': 'number'},\n",
       "                       {'name': 'Val_sd', 'type': 'number'},\n",
       "                       {'name': 'Phe', 'type': 'number'},\n",
       "                       {'name': 'Phe_sd', 'type': 'number'},\n",
       "                       {'name': 'Ile', 'type': 'number'},\n",
       "                       {'name': 'Ile_sd', 'type': 'number'},\n",
       "                       {'name': 'Leu', 'type': 'number'},\n",
       "                       {'name': 'Leu_sd', 'type': 'number'},\n",
       "                       {'name': 'Lys', 'type': 'number'},\n",
       "                       {'name': 'Lys_sd', 'type': 'number'}]},\n",
       " 'bcodmo:parameters': [{'bcodmo:name': 'Sample_ID',\n",
       "                        'bcodmo:description': 'Internal sample ID',\n",
       "                        'bcodmo:datatype': 'string',\n",
       "                        'bcodmo:units': 'unitless'},\n",
       "                       {'bcodmo:name': 'Cruise',\n",
       "                        'bcodmo:description': 'BIOSSCOPE cruise identifier',\n",
       "                        'bcodmo:datatype': 'string',\n",
       "                        'bcodmo:units': 'unitless'},\n",
       "                       {'bcodmo:name': 'Latitude',\n",
       "                        'bcodmo:description': '<p>Latitude of sample '\n",
       "                                              'collection</p>',\n",
       "                        'bcodmo:datatype': 'number',\n",
       "                        'bcodmo:units': 'decimal degrees'},\n",
       "                       {'bcodmo:name': 'Longitude',\n",
       "                        'bcodmo:description': '<p>Longitude of sample '\n",
       "                                              'collection</p>',\n",
       "                        'bcodmo:datatype': 'number',\n",
       "                        'bcodmo:units': 'decimal degrees'},\n",
       "                       {'bcodmo:name': 'Date',\n",
       "                        'bcodmo:description': '<p>Date of sample '\n",
       "                                              'collection</p>',\n",
       "                        'bcodmo:datatype': 'date',\n",
       "                        'bcodmo:units': 'units',\n",
       "                        'bcodmo:valueFormat': '%Y-%m-%d'},\n",
       "                       {'bcodmo:name': 'Size_fraction',\n",
       "                        'bcodmo:description': 'Particle size range for water '\n",
       "                                              'fraction',\n",
       "                        'bcodmo:datatype': 'string',\n",
       "                        'bcodmo:units': 'micrometers (um)'},\n",
       "                       {'bcodmo:name': 'Filter_type',\n",
       "                        'bcodmo:description': 'Filter type used for particle '\n",
       "                                              'fraction (Nitex, GF/C ,GF75)',\n",
       "                        'bcodmo:datatype': 'string',\n",
       "                        'bcodmo:units': 'unitless'},\n",
       "                       {'bcodmo:name': 'Depth',\n",
       "                        'bcodmo:description': '<p>Water column depth of '\n",
       "                                              'sample</p>',\n",
       "                        'bcodmo:datatype': 'integer',\n",
       "                        'bcodmo:units': 'meters (m)'},\n",
       "                       {'bcodmo:name': 'Asp',\n",
       "                        'bcodmo:description': 'average amino acid '\n",
       "                                              'concentration: Aspartic Acid. '\n",
       "                                              'One filter split was prepared '\n",
       "                                              'per sample, and three aliquots '\n",
       "                                              'from the final prepared '\n",
       "                                              'solution were analyzed '\n",
       "                                              '(triplicate injections).',\n",
       "                        'bcodmo:datatype': 'number',\n",
       "                        'bcodmo:units': 'nanomoles carbon per liter'},\n",
       "                       {'bcodmo:name': 'Asp_sd',\n",
       "                        'bcodmo:description': 'standard deviation of Aspartic '\n",
       "                                              'Acid concentration',\n",
       "                        'bcodmo:datatype': 'number',\n",
       "                        'bcodmo:units': 'nanomoles carbon per liter'},\n",
       "                       {'bcodmo:name': 'Glu',\n",
       "                        'bcodmo:description': 'average amino acid '\n",
       "                                              'concentration:  Glutamic Acid.  '\n",
       "                                              'One filter split was prepared '\n",
       "                                              'per sample, and three aliquots '\n",
       "                                              'from the final prepared '\n",
       "                                              'solution were analyzed '\n",
       "                                              '(triplicate injections).',\n",
       "                        'bcodmo:datatype': 'number',\n",
       "                        'bcodmo:units': 'nanomoles carbon per liter'},\n",
       "                       {'bcodmo:name': 'Glu_sd',\n",
       "                        'bcodmo:description': 'standard deviation of Glutamic '\n",
       "                                              'Acid concentration',\n",
       "                        'bcodmo:datatype': 'number',\n",
       "                        'bcodmo:units': 'nanomoles carbon per liter'},\n",
       "                       {'bcodmo:name': 'HisSer',\n",
       "                        'bcodmo:description': 'average amino acid '\n",
       "                                              'concentration:  '\n",
       "                                              'Histidine+Serine.  One filter '\n",
       "                                              'split was prepared per sample, '\n",
       "                                              'and three aliquots from the '\n",
       "                                              'final prepared solution were '\n",
       "                                              'analyzed (triplicate '\n",
       "                                              'injections).',\n",
       "                        'bcodmo:datatype': 'number',\n",
       "                        'bcodmo:units': 'nanomoles carbon per liter'},\n",
       "                       {'bcodmo:name': 'HisSer_sd',\n",
       "                        'bcodmo:description': 'standard deviation of '\n",
       "                                              'Histidine+Serine amino acid '\n",
       "                                              'concentration',\n",
       "                        'bcodmo:datatype': 'number',\n",
       "                        'bcodmo:units': 'nanomoles carbon per liter'},\n",
       "                       {'bcodmo:name': 'Arg',\n",
       "                        'bcodmo:description': 'average amino acid '\n",
       "                                              'concentration:  Arginine.  One '\n",
       "                                              'filter split was prepared per '\n",
       "                                              'sample, and three aliquots from '\n",
       "                                              'the final prepared solution '\n",
       "                                              'were analyzed (triplicate '\n",
       "                                              'injections).',\n",
       "                        'bcodmo:datatype': 'number',\n",
       "                        'bcodmo:units': 'nanomoles carbon per liter'},\n",
       "                       {'bcodmo:name': 'Arg_sd',\n",
       "                        'bcodmo:description': 'standard deviation of Arginine '\n",
       "                                              'concentration',\n",
       "                        'bcodmo:datatype': 'number',\n",
       "                        'bcodmo:units': 'nanomoles carbon per liter'},\n",
       "                       {'bcodmo:name': 'Thr',\n",
       "                        'bcodmo:description': 'average amino acid '\n",
       "                                              'concentration:  Threonine.  One '\n",
       "                                              'filter split was prepared per '\n",
       "                                              'sample, and three aliquots from '\n",
       "                                              'the final prepared solution '\n",
       "                                              'were analyzed (triplicate '\n",
       "                                              'injections).',\n",
       "                        'bcodmo:datatype': 'number',\n",
       "                        'bcodmo:units': 'nanomoles carbon per liter'},\n",
       "                       {'bcodmo:name': 'Thr_sd',\n",
       "                        'bcodmo:description': 'standard deviation of Threonine '\n",
       "                                              'concenctration',\n",
       "                        'bcodmo:datatype': 'number',\n",
       "                        'bcodmo:units': 'nanomoles carbon per liter'},\n",
       "                       {'bcodmo:name': 'Gly',\n",
       "                        'bcodmo:description': 'average amino acid '\n",
       "                                              'concentration:  Glycine.  One '\n",
       "                                              'filter split was prepared per '\n",
       "                                              'sample, and three aliquots from '\n",
       "                                              'the final prepared solution '\n",
       "                                              'were analyzed (triplicate '\n",
       "                                              'injections).',\n",
       "                        'bcodmo:datatype': 'number',\n",
       "                        'bcodmo:units': 'nanomoles carbon per liter'},\n",
       "                       {'bcodmo:name': 'Gly_sd',\n",
       "                        'bcodmo:description': 'standard deviation of Glycine '\n",
       "                                              'concentration',\n",
       "                        'bcodmo:datatype': 'number',\n",
       "                        'bcodmo:units': 'nanomoles carbon per liter'},\n",
       "                       {'bcodmo:name': 'Bala',\n",
       "                        'bcodmo:description': 'average amino acid '\n",
       "                                              'concentration:  Beta-alanine.  '\n",
       "                                              'One filter split was prepared '\n",
       "                                              'per sample, and three aliquots '\n",
       "                                              'from the final prepared '\n",
       "                                              'solution were analyzed '\n",
       "                                              '(triplicate injections).',\n",
       "                        'bcodmo:datatype': 'number',\n",
       "                        'bcodmo:units': 'nanomoles carbon per liter'},\n",
       "                       {'bcodmo:name': 'Bala_sd',\n",
       "                        'bcodmo:description': 'standard deviation of '\n",
       "                                              'Beta-alanine concentration',\n",
       "                        'bcodmo:datatype': 'number',\n",
       "                        'bcodmo:units': 'nanomoles carbon per liter'},\n",
       "                       {'bcodmo:name': 'Tyr',\n",
       "                        'bcodmo:description': 'average amino acid '\n",
       "                                              'concentration:  Tyrosine.  One '\n",
       "                                              'filter split was prepared per '\n",
       "                                              'sample, and three aliquots from '\n",
       "                                              'the final prepared solution '\n",
       "                                              'were analyzed (triplicate '\n",
       "                                              'injections).',\n",
       "                        'bcodmo:datatype': 'number',\n",
       "                        'bcodmo:units': 'nanomoles carbon per liter'},\n",
       "                       {'bcodmo:name': 'Tyr_sd',\n",
       "                        'bcodmo:description': 'standard deviation of Tyrosine '\n",
       "                                              'concentration',\n",
       "                        'bcodmo:datatype': 'number',\n",
       "                        'bcodmo:units': 'nanomoles carbon per liter'},\n",
       "                       {'bcodmo:name': 'Ala',\n",
       "                        'bcodmo:description': 'average amino acid '\n",
       "                                              'concentration:  Alanine.  One '\n",
       "                                              'filter split was prepared per '\n",
       "                                              'sample, and three aliquots from '\n",
       "                                              'the final prepared solution '\n",
       "                                              'were analyzed (triplicate '\n",
       "                                              'injections).',\n",
       "                        'bcodmo:datatype': 'number',\n",
       "                        'bcodmo:units': 'nanomoles carbon per liter'},\n",
       "                       {'bcodmo:name': 'Ala_sd',\n",
       "                        'bcodmo:description': 'standard deviation of Alanine '\n",
       "                                              'concentration',\n",
       "                        'bcodmo:datatype': 'number',\n",
       "                        'bcodmo:units': 'nanomoles carbon per liter'},\n",
       "                       {'bcodmo:name': 'GABA',\n",
       "                        'bcodmo:description': 'average amino acid '\n",
       "                                              'concentration:  '\n",
       "                                              'Gamma-aminobutyric acid.  One '\n",
       "                                              'filter split was prepared per '\n",
       "                                              'sample, and three aliquots from '\n",
       "                                              'the final prepared solution '\n",
       "                                              'were analyzed (triplicate '\n",
       "                                              'injections).',\n",
       "                        'bcodmo:datatype': 'number',\n",
       "                        'bcodmo:units': 'nanomoles carbon per liter'},\n",
       "                       {'bcodmo:name': 'GABA_sd',\n",
       "                        'bcodmo:description': 'standard deviation of '\n",
       "                                              'Gamma-aminobutyric acid '\n",
       "                                              'concentration',\n",
       "                        'bcodmo:datatype': 'number',\n",
       "                        'bcodmo:units': 'nanomoles carbon per liter'},\n",
       "                       {'bcodmo:name': 'Met',\n",
       "                        'bcodmo:description': 'average amino acid '\n",
       "                                              'concentration:  Methionine.  '\n",
       "                                              'One filter split was prepared '\n",
       "                                              'per sample, and three aliquots '\n",
       "                                              'from the final prepared '\n",
       "                                              'solution were analyzed '\n",
       "                                              '(triplicate injections).',\n",
       "                        'bcodmo:datatype': 'number',\n",
       "                        'bcodmo:units': 'nanomoles carbon per liter'},\n",
       "                       {'bcodmo:name': 'Met_sd',\n",
       "                        'bcodmo:description': 'standard deviation of '\n",
       "                                              'Methionine concentration',\n",
       "                        'bcodmo:datatype': 'number',\n",
       "                        'bcodmo:units': 'nanomoles carbon per liter'},\n",
       "                       {'bcodmo:name': 'Val',\n",
       "                        'bcodmo:description': 'average amino acid '\n",
       "                                              'concentration:  Valine.  One '\n",
       "                                              'filter split was prepared per '\n",
       "                                              'sample, and three aliquots from '\n",
       "                                              'the final prepared solution '\n",
       "                                              'were analyzed (triplicate '\n",
       "                                              'injections).',\n",
       "                        'bcodmo:datatype': 'number',\n",
       "                        'bcodmo:units': 'nanomoles carbon per liter'},\n",
       "                       {'bcodmo:name': 'Val_sd',\n",
       "                        'bcodmo:description': 'standard deviation of Valine '\n",
       "                                              'concentration',\n",
       "                        'bcodmo:datatype': 'number',\n",
       "                        'bcodmo:units': 'nanomoles carbon per liter'},\n",
       "                       {'bcodmo:name': 'Phe',\n",
       "                        'bcodmo:description': 'average amino acid '\n",
       "                                              'concentration:  Phenylalanine.  '\n",
       "                                              'One filter split was prepared '\n",
       "                                              'per sample, and three aliquots '\n",
       "                                              'from the final prepared '\n",
       "                                              'solution were analyzed '\n",
       "                                              '(triplicate injections).',\n",
       "                        'bcodmo:datatype': 'number',\n",
       "                        'bcodmo:units': 'nanomoles carbon per liter'},\n",
       "                       {'bcodmo:name': 'Phe_sd',\n",
       "                        'bcodmo:description': 'standard deviation of '\n",
       "                                              'Phenylalanine concentration',\n",
       "                        'bcodmo:datatype': 'number',\n",
       "                        'bcodmo:units': 'nanomoles carbon per liter'},\n",
       "                       {'bcodmo:name': 'Ile',\n",
       "                        'bcodmo:description': 'average amino acid '\n",
       "                                              'concentration:  Isoleucine.  '\n",
       "                                              'One filter split was prepared '\n",
       "                                              'per sample, and three aliquots '\n",
       "                                              'from the final prepared '\n",
       "                                              'solution were analyzed '\n",
       "                                              '(triplicate injections).',\n",
       "                        'bcodmo:datatype': 'number',\n",
       "                        'bcodmo:units': 'nanomoles carbon per liter'},\n",
       "                       {'bcodmo:name': 'Ile_sd',\n",
       "                        'bcodmo:description': 'standard deviation of '\n",
       "                                              'Isoleucine concentration',\n",
       "                        'bcodmo:datatype': 'number',\n",
       "                        'bcodmo:units': 'nanomoles carbon per liter'},\n",
       "                       {'bcodmo:name': 'Leu',\n",
       "                        'bcodmo:description': 'average amino acid '\n",
       "                                              'concentration:  Leucine.  One '\n",
       "                                              'filter split was prepared per '\n",
       "                                              'sample, and three aliquots from '\n",
       "                                              'the final prepared solution '\n",
       "                                              'were analyzed (triplicate '\n",
       "                                              'injections).',\n",
       "                        'bcodmo:datatype': 'number',\n",
       "                        'bcodmo:units': 'nanomoles carbon per liter'},\n",
       "                       {'bcodmo:name': 'Leu_sd',\n",
       "                        'bcodmo:description': 'standard deviation of Leucine '\n",
       "                                              'concentration',\n",
       "                        'bcodmo:datatype': 'number',\n",
       "                        'bcodmo:units': 'nanomoles carbon per liter'},\n",
       "                       {'bcodmo:name': 'Lys',\n",
       "                        'bcodmo:description': 'average amino acid '\n",
       "                                              'concentration:  Lysine.  One '\n",
       "                                              'filter split was prepared per '\n",
       "                                              'sample, and three aliquots from '\n",
       "                                              'the final prepared solution '\n",
       "                                              'were analyzed (triplicate '\n",
       "                                              'injections).',\n",
       "                        'bcodmo:datatype': 'number',\n",
       "                        'bcodmo:units': 'nanomoles carbon per liter'},\n",
       "                       {'bcodmo:name': 'Lys_sd',\n",
       "                        'bcodmo:description': 'standard deviation of Lysine '\n",
       "                                              'concentration',\n",
       "                        'bcodmo:datatype': 'number',\n",
       "                        'bcodmo:units': 'nanomoles carbon per liter'}]}"
      ]
     },
     "execution_count": 12,
     "metadata": {},
     "output_type": "execute_result"
    }
   ],
   "source": [
    "biosscope.resources[idx]\n"
   ]
  },
  {
   "cell_type": "code",
   "execution_count": null,
   "id": "ee162cbe-e48f-4a47-aca3-3f97bd2e0be2",
   "metadata": {},
   "outputs": [],
   "source": []
  },
  {
   "cell_type": "code",
   "execution_count": null,
   "id": "3814f7f8-dbd8-4d61-8cd5-1b30611e1fcf",
   "metadata": {},
   "outputs": [],
   "source": []
  },
  {
   "cell_type": "code",
   "execution_count": null,
   "id": "ff8fdb93-e26f-429c-bb98-9a9c14872cfb",
   "metadata": {},
   "outputs": [],
   "source": []
  },
  {
   "cell_type": "code",
   "execution_count": null,
   "id": "8ee2444e-6a42-4da5-a193-3ff389aa7a68",
   "metadata": {
    "id": "8ee2444e-6a42-4da5-a193-3ff389aa7a68",
    "outputId": "4421524b-9b02-4f98-a12b-3c59b3d20ead"
   },
   "outputs": [],
   "source": [
    "#raise UserWarning('Stopping and leave code below for historical reasons, code will not run')"
   ]
  },
  {
   "cell_type": "code",
   "execution_count": null,
   "id": "8e6f55de-ce64-4a35-85c8-646c62fa2c13",
   "metadata": {},
   "outputs": [],
   "source": [
    "#was heading down this path and using out as a dictionary, leave for now in case I come back to this.\n",
    "# out = {};\n",
    "# for idx,item in enumerate(biosscope.resources):\n",
    "#     justFile = item.name;\n",
    "#     #pdb.set_trace()\n",
    "#     out.update({'file':justFile})\n",
    "#     if justFile == '920443_v1_biosscope_in_situ_pump_chemical_data':\n",
    "#         print('yes')\n",
    "#         out.update({'toDo':'addDepth'})\n",
    "        \n",
    "#     #out.append(justFile)\n",
    "\n",
    "# out #this will be a list, iterate through the files on this list"
   ]
  }
 ],
 "metadata": {
  "colab": {
   "provenance": []
  },
  "kernelspec": {
   "display_name": "Python 3 (ipykernel)",
   "language": "python",
   "name": "python3"
  },
  "language_info": {
   "codemirror_mode": {
    "name": "ipython",
    "version": 3
   },
   "file_extension": ".py",
   "mimetype": "text/x-python",
   "name": "python",
   "nbconvert_exporter": "python",
   "pygments_lexer": "ipython3",
   "version": "3.11.7"
  }
 },
 "nbformat": 4,
 "nbformat_minor": 5
}
