{
 "cells": [
  {
   "cell_type": "code",
   "execution_count": null,
   "id": "679f1327-1d9a-44c4-a50b-3a2d308f15b6",
   "metadata": {},
   "outputs": [],
   "source": []
  }
 ],
 "metadata": {
  "kernelspec": {
   "display_name": "",
   "name": ""
  },
  "language_info": {
   "name": ""
  }
 },
 "nbformat": 4,
 "nbformat_minor": 5
}
