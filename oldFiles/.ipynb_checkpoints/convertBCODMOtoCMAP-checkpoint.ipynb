{
 "cells": [
  {
   "cell_type": "markdown",
   "id": "a9efb115-054a-4922-9312-dba2564fd872",
   "metadata": {
    "id": "a9efb115-054a-4922-9312-dba2564fd872"
   },
   "source": [
    "# convertBCODMOtoCMAP\n",
    "Krista Longnecker, 2 July 2025\\\n",
    "Run this after running getBCODMOinfo.ipynb\\\n",
    "Once you have the information from BCO-DMO dataset in hand, use this to make it into the format required by CMAP."
   ]
  },
  {
   "cell_type": "code",
   "execution_count": 1,
   "id": "6edb5289-064f-42ff-a807-68dcc169a7b6",
   "metadata": {
    "id": "6edb5289-064f-42ff-a807-68dcc169a7b6"
   },
   "outputs": [],
   "source": [
    "#some of these are residual from assembling the data file, keep for now.\n",
    "import pandas as pd\n",
    "import requests\n",
    "import os\n",
    "import json\n",
    "import re\n",
    "\n",
    "from datetime import datetime, timedelta, timezone\n",
    "from SPARQLWrapper import SPARQLWrapper, POST, JSON\n",
    "from frictionless import describe, Package"
   ]
  },
  {
   "cell_type": "code",
   "execution_count": 2,
   "id": "b8e537cf-1082-4559-9320-12a8bddb03bb",
   "metadata": {
    "id": "b8e537cf-1082-4559-9320-12a8bddb03bb"
   },
   "outputs": [],
   "source": [
    "# Make a function that searches for bcodmo:name and returns bcodmo:description and bcodmo:units\n",
    "# input: md --> the list of parameters for one dataset\n",
    "def getDetails(md,bcodmo_name):\n",
    "    \"\"\"\n",
    "    Take the list of information from BCO-DMO, search for a name, and return the description and units for that name\n",
    "    \"\"\"\n",
    "    for i, item in enumerate(md):\n",
    "        if item['bcodmo:name'] == bcodmo_name:\n",
    "            #actually want the descrption, so return that\n",
    "            description = item['bcodmo:description']\n",
    "            units = item['bcodmo:units']\n",
    "\n",
    "    return description, units"
   ]
  },
  {
   "cell_type": "code",
   "execution_count": 3,
   "id": "7b33016a-3190-4863-964f-8a9976672387",
   "metadata": {
    "id": "7b33016a-3190-4863-964f-8a9976672387"
   },
   "outputs": [],
   "source": [
    "#read in the package that was already made (using getBCODMOinfo.ipynb)\n",
    "biosscope = Package('datapackage.json')\n",
    "# biosscope = Package(JSON_FILE)"
   ]
  },
  {
   "cell_type": "markdown",
   "id": "a242dcc1-461d-44ba-b6dd-5e904c4c0b4c",
   "metadata": {
    "id": "a242dcc1-461d-44ba-b6dd-5e904c4c0b4c"
   },
   "source": [
    "These next cells are left here so I remember ways to access information in the json file, they are just tests"
   ]
  },
  {
   "cell_type": "code",
   "execution_count": 4,
   "id": "78739142-8591-4dc3-a417-408c5f9d9080",
   "metadata": {
    "id": "78739142-8591-4dc3-a417-408c5f9d9080",
    "outputId": "eee8147c-d56e-4d0e-9063-c49f5879d081"
   },
   "outputs": [],
   "source": [
    "# #various commands I have been trying to see what is biosscope\n",
    "# biosscope.get_resource\n",
    "# biosscope.resources"
   ]
  },
  {
   "cell_type": "code",
   "execution_count": 5,
   "id": "fa4ba46c-7266-4a74-bffb-35f9609cf5b8",
   "metadata": {
    "id": "fa4ba46c-7266-4a74-bffb-35f9609cf5b8",
    "outputId": "abac40d6-3533-4796-fed1-ae664bcc20a8"
   },
   "outputs": [
    {
     "name": "stdout",
     "output_type": "stream",
     "text": [
      "10.26008/1912/bco-dmo.853440.1\n",
      "10.26008/1912/bco-dmo.853440.1\n",
      "10.26008/1912/bco-dmo.853440.1\n",
      "10.26008/1912/bco-dmo.853440.1\n",
      "10.26008/1912/bco-dmo.854077.1\n",
      "10.26008/1912/bco-dmo.857891.1\n",
      "10.26008/1912/bco-dmo.861266.1\n",
      "10.26008/1912/bco-dmo.920443.1\n",
      "10.26008/1912/bco-dmo.964684.1\n",
      "10.26008/1912/bco-dmo.964801.1\n",
      "10.26008/1912/bco-dmo.964826.1\n"
     ]
    }
   ],
   "source": [
    "#checking out ways to access the information in biosscope\n",
    "for idx,item in enumerate(biosscope.resources):\n",
    "    justFile = item.sources[0]['doi']; #apparently I need to index this\n",
    "    print(justFile)"
   ]
  },
  {
   "cell_type": "code",
   "execution_count": 6,
   "id": "28e2c1d0-27f7-4c68-83be-f48acae6a2a9",
   "metadata": {
    "id": "28e2c1d0-27f7-4c68-83be-f48acae6a2a9",
    "outputId": "f9138ed8-8123-4f74-efbe-11b245d97841"
   },
   "outputs": [
    {
     "data": {
      "text/plain": [
       "['zooscan_images_bats_ae1614',\n",
       " 'zooscan_images_bats_ae1712',\n",
       " 'zooscan_images_bats_ae1819',\n",
       " 'zooscan_images_bats_ae1830',\n",
       " 'zooscan_bats_biovolume',\n",
       " 'zooscan_mocness_output',\n",
       " 'survey_biogeochemical',\n",
       " '920443_v1_biosscope_in_situ_pump_chemical_data',\n",
       " '964684_v1_amino_acids_biosscope_2021',\n",
       " '964801_v1_pump_carbohydrates_biosscope_2021',\n",
       " '964826_v1_pump_poc_pon_biosscope']"
      ]
     },
     "execution_count": 6,
     "metadata": {},
     "output_type": "execute_result"
    }
   ],
   "source": [
    "out = [];\n",
    "for idx,item in enumerate(biosscope.resources):\n",
    "    justFile = item.name;\n",
    "    #pdb.set_trace()\n",
    "    out.append(justFile)\n",
    "\n",
    "out #this will be a list"
   ]
  },
  {
   "cell_type": "code",
   "execution_count": 7,
   "id": "36218dbd-48b3-4f3b-808b-b28b51580e4c",
   "metadata": {
    "id": "36218dbd-48b3-4f3b-808b-b28b51580e4c",
    "outputId": "9493d24d-0e30-4f18-d790-b28eb92c8a3b"
   },
   "outputs": [
    {
     "name": "stdout",
     "output_type": "stream",
     "text": [
      "https://datadocs.bco-dmo.org/data/305/Zooplankton_Gradients/853440/1/data/ZooSCAN_Images_BATS_AE1614.tar.gz\n",
      "https://datadocs.bco-dmo.org/data/305/Zooplankton_Gradients/853440/1/data/ZooSCAN_Images_BATS_AE1712.tar.gz\n",
      "https://datadocs.bco-dmo.org/data/305/Zooplankton_Gradients/853440/1/data/ZooSCAN_Images_BATS_AE1819.tar.gz\n",
      "https://datadocs.bco-dmo.org/data/305/Zooplankton_Gradients/853440/1/data/ZooSCAN_Images_BATS_AE1830.tar.gz\n",
      "https://datadocs.bco-dmo.org/file/3YY3gVnum7AlR0/zooscan_bats_biovolume.csv\n",
      "https://datadocs.bco-dmo.org/file/6YYMlVRurEQWp5/zooscan_mocness_output.csv\n",
      "https://datadocs.bco-dmo.org/file/KAAGNEBc2V61jx/survey_biogeochemical.csv\n",
      "https://datadocs.bco-dmo.org/file/oAJMAWlunxyLm/920443_v1_biosscope_in_situ_pump_chemical_data.csv\n",
      "https://datadocs.bco-dmo.org/file/XYG3xXqfkkjG5x/964684_v1_amino_acids_biosscope_2021.csv\n",
      "https://datadocs.bco-dmo.org/file/7Dxl3PMCmEl8lX/964801_v1_pump_carbohydrates_biosscope_2021.csv\n",
      "https://datadocs.bco-dmo.org/file/m7zBJ4GTjvNzDY/964826_v1_pump_poc_pon_biosscope.csv\n"
     ]
    }
   ],
   "source": [
    "for idx,item in enumerate(biosscope.resources):\n",
    "    justFile = item.path;\n",
    "    print(justFile)"
   ]
  },
  {
   "cell_type": "markdown",
   "id": "4fcdfaa2-c137-4c64-b851-9fc5fd2470d9",
   "metadata": {
    "id": "4fcdfaa2-c137-4c64-b851-9fc5fd2470d9"
   },
   "source": [
    "# Start working with a data file"
   ]
  },
  {
   "cell_type": "code",
   "execution_count": 8,
   "id": "1635de6e-6591-4a88-8ce5-6cd75ee3537a",
   "metadata": {
    "id": "1635de6e-6591-4a88-8ce5-6cd75ee3537a",
    "outputId": "eed0657c-c3fd-435e-aa9f-dedb697e0746"
   },
   "outputs": [
    {
     "name": "stdout",
     "output_type": "stream",
     "text": [
      "Found the discrete data at index 6\n"
     ]
    }
   ],
   "source": [
    "#start with the data from the discrete samples (later will go through all the BIOS-SCOPE data files)\n",
    "workOne = 'survey_biogeochemical'\n",
    "index = out.index(workOne) #use this for one data set...will later put this into a loop\n",
    "print(f\"Found the discrete data at index {index}\") # Output: Found at index #\n",
    "#use that to find the right filename\n",
    "#biosscope.resources[index]"
   ]
  },
  {
   "cell_type": "code",
   "execution_count": null,
   "id": "8b8d8d36-1a3a-4955-9ca0-97c6b1b2ec67",
   "metadata": {},
   "outputs": [],
   "source": [
    "data_url = biosscope.resources[index].path\n",
    "\n",
    "#make a short name out of the data_url, will use that to name the final Excel file \n",
    "exportFile = re.split('/',data_url).pop().replace('.csv','')"
   ]
  },
  {
   "cell_type": "code",
   "execution_count": null,
   "id": "130ca57d-5dbb-48b2-bb4e-2f331c71dab6",
   "metadata": {},
   "outputs": [],
   "source": []
  },
  {
   "cell_type": "code",
   "execution_count": null,
   "id": "36cca8c5-d8f6-4cb6-9512-827eabdd620d",
   "metadata": {
    "id": "e2712dbe-b141-442e-9bd4-a2fbec4cf78d",
    "scrolled": true
   },
   "outputs": [],
   "source": [
    "if data_url.endswith('csv'):\n",
    "    #for BIOS-SCOPE there are datafiles that are tar.gz files with actual images, don't need those \n",
    "    #so (for now at least) I will filter to see if the datafile is a CSV file. Sort out if there is \n",
    "    #a better way to deal with that distinction.\n",
    "    \n",
    "    #super easy to work with the CSV file once I have the URL\n",
    "    bcodmo = pd.read_csv(data_url,na_values = ['nd']) #now I have NaN...but they get dropped when writing the file"
   ]
  },
  {
   "cell_type": "code",
   "execution_count": 10,
   "id": "e29170f0-1367-47a9-9b2d-59aa0c7872f6",
   "metadata": {
    "id": "e29170f0-1367-47a9-9b2d-59aa0c7872f6"
   },
   "outputs": [],
   "source": [
    "#start with the first sheet, data, and setup the data into the CMAP format, generating a multi-page Excel file\n",
    "\n",
    "# Required variables are time, lat, lon, depth\n",
    "df = pd.DataFrame(columns=['time','lat','lon','depth'])\n",
    "\n",
    "# time --> CMAP requirement is this: #< Format  %Y-%m-%dT%H:%M:%S,  Time-Zone:  UTC,  example: 2014-02-28T14:25:55 >\n",
    "# Do this in two steps so I can check the output more easily\n",
    "temp = bcodmo.copy()\n",
    "temp['date'] = pd.to_datetime(temp['decy'], unit='D', origin='1970-01-01')\n",
    "temp['date_cmap'] = temp['date'].dt.strftime(\"%Y-%m-%dT%H:%M:%S\")\n",
    "df['time'] = temp['date_cmap']\n",
    "\n",
    "# lat (-90 to 90) and lon (-180 to 180); use variable names at BCO-DMO\n",
    "df['lat'] = bcodmo['Latitude']\n",
    "df['lon'] = bcodmo['Longitude']  #BCO-DMO already has this as negative\n",
    "df['depth'] = bcodmo['Depth']\n",
    "\n",
    "# all remaining columns in bcodmo can be considered data\n",
    "#remember: bcodmo_trim will have the list of variables that I will use later to get metadata about the variables\n",
    "bcodmo_trim = bcodmo.drop(columns=['Latitude', 'Longitude', 'Depth'])\n",
    "nVariables = bcodmo_trim.shape[1] #remember in Python indexing starts with 0 (rows, 1 is the columns)\n",
    "# and then add to the datafile I am assembling (essentially re-order columns\n",
    "df = pd.concat([df, bcodmo_trim], axis=1)"
   ]
  },
  {
   "cell_type": "code",
   "execution_count": 11,
   "id": "b3ec59a5-97f1-414f-807f-c7d089807215",
   "metadata": {
    "id": "b3ec59a5-97f1-414f-807f-c7d089807215"
   },
   "outputs": [],
   "source": [
    "# work on the second sheet: metadata about the variables; use the CMAP dataset template to setup the dataframe so I get the column headers right\n",
    "fName = 'datasetTemplate.xlsx'\n",
    "sheet_name = 'vars_meta_data'\n",
    "vars = pd.read_excel(fName, sheet_name=sheet_name)\n",
    "cols = vars.columns.tolist()\n",
    "#df2 will be the dataframe with the metadata about the variables, set it up empty here\n",
    "df2 = pd.DataFrame(columns=cols,index = pd.RangeIndex(start=0,stop=nVariables)) #remember, Python is 0 indexed\n",
    "\n",
    "#the variables I need to search for are here: bcodmo_trim.columns, put them in the first column\n",
    "df2['var_short_name'] = bcodmo_trim.columns\n",
    "#Need the information from BCO-DMO to fill in the metadata about the variables.\n",
    "md = biosscope.resources[6].custom['bcodmo:parameters'] #this is a list, don't forget 'custom' (!!) that is not obvious when you look at the json file"
   ]
  },
  {
   "cell_type": "code",
   "execution_count": 12,
   "id": "572ea73d-a7fa-4f9a-95b7-43abc3a86bf0",
   "metadata": {
    "id": "572ea73d-a7fa-4f9a-95b7-43abc3a86bf0"
   },
   "outputs": [],
   "source": [
    "#there is most certainly a better way to do this, but I understand this option\n",
    "for idx,item in enumerate(df2.iterrows()):\n",
    "    a,b = getDetails(md,df2.loc[idx,'var_short_name']) #getDetails is the function I wrote (see above)\n",
    "    df2.loc[idx,'var_long_name'] = a\n",
    "    df2.loc[idx,'var_unit'] = b"
   ]
  },
  {
   "cell_type": "code",
   "execution_count": 13,
   "id": "59abd9bd-f1fe-4324-95cf-e56cd7a00d0c",
   "metadata": {
    "id": "59abd9bd-f1fe-4324-95cf-e56cd7a00d0c"
   },
   "outputs": [],
   "source": [
    "#for sensor I will need a lookup table as the information at BCO-DMO is not formatted to provide this. There is some\n",
    "#sensor information, but I don't see how it is linked directly to specific measured variables, and more than one variable can match a given sensor.\n",
    "#Later note, probably easier to put this into Excel (see notes below about the CMAP keywords that are required)\n",
    "\n",
    "\n",
    "#13 options listed at BCO-DMO:manually assign to one or more variables as possible\n",
    "LUsensors = {'CTD SeaBird 911+':['Temp','CTD_SBE35T','Conductivity','Pressure'],\n",
    "             'Lachat QuikChem 8500 series 2':['NO3_plus_NO2','NO3','NO2','PO4','NH4','SiO2'],\n",
    "             'Shimadzu TOC-V':['DOC'],\n",
    "             'TNM-1 chemiluminescent detector assembly':['TDN'],\n",
    "             'Olympus BX51 epifluorescent microscope':['Bact']\n",
    "            }\n",
    "\n",
    "# These other sensors are for data I have not yet tackled, leave here for now\n",
    "# 'MOCNESS'\n",
    "# 'Reeve net'\n",
    "\n",
    "# 'CEC 440HA combustion analyzer'\n",
    "\n",
    "# ##glider, not yet ready, so hold off one these\n",
    "# 'Slocum G2 glbider'\n",
    "# 'WetLabs ECOpuck (ChlF and Bp700)'\n",
    "# 'Submersible Underwater Nitrate Analyzer (SUNA)'\n",
    "# 'Aanderaa O2 optode'"
   ]
  },
  {
   "cell_type": "code",
   "execution_count": 14,
   "id": "9f976e16-dd78-4acc-bc67-bf5ca14d8868",
   "metadata": {
    "id": "9f976e16-dd78-4acc-bc67-bf5ca14d8868"
   },
   "outputs": [],
   "source": [
    "# this will return the sensor given a possible variable, surely there is a better way to do this...\n",
    "for idx,item in enumerate(df2.iterrows()):\n",
    "    oneVar = df2.loc[idx,'var_short_name']\n",
    "    sensor =  str([k for k, v in LUsensors.items() if oneVar in v])[2:-2]\n",
    "    if len(sensor): #only try and fill in if a sensor was found\n",
    "        df2.loc[idx,'var_sensor'] = str(sensor) #strip off the [] at the beginning/end of the list"
   ]
  },
  {
   "cell_type": "code",
   "execution_count": 15,
   "id": "d160f616-a17e-4f8d-b22d-0006b0f63d3d",
   "metadata": {
    "id": "d160f616-a17e-4f8d-b22d-0006b0f63d3d"
   },
   "outputs": [],
   "source": [
    "#there are a few pieces of metadata that CMAP wants that will be easier to track in an Excel file -\n",
    "#make the file once, and then update as needed for future BCO-DMO datasets.\n",
    "#The keywords include cruises, and all possible names for a variable. I wonder if\n",
    "#CMAP has that information available in a way that can be searched?\n",
    "# Note that I made the Excel file after I started down this rabbit hole with the sensors. It will probably make sense\n",
    "#to pull the sensor information from the file as well.\n",
    "fName = 'CMAP_variableMetadata_additions.xlsx'\n",
    "moreMD = pd.read_excel(fName,sheet_name = 'vars_meta_data')"
   ]
  },
  {
   "cell_type": "code",
   "execution_count": 16,
   "id": "2ab969b2-6203-430b-81cc-351a813eadf1",
   "metadata": {
    "id": "2ab969b2-6203-430b-81cc-351a813eadf1"
   },
   "outputs": [],
   "source": [
    "#suffixes are added to column name to keep them separate; '' adds nothing while '_td' adds _td that can get deleted next\n",
    "df2 = moreMD.merge(df2[['var_short_name','var_keywords']],on='var_short_name',how='right',suffixes=('', '_td',))\n",
    "# Discard the columns that acquired a suffix:\n",
    "df2 = df2[[c for c in df2.columns if not c.endswith('_td')]]\n",
    "\n",
    "#these two are easy: just add them here\n",
    "df2.loc[:,('var_spatial_res')] = 'irregular'\n",
    "df2.loc[:, ('var_temporal_res')] = 'irregular'"
   ]
  },
  {
   "cell_type": "code",
   "execution_count": 17,
   "id": "7bd51ab7-316f-4fdf-ad5d-a1999dbe8bbd",
   "metadata": {
    "id": "7bd51ab7-316f-4fdf-ad5d-a1999dbe8bbd"
   },
   "outputs": [],
   "source": [
    "#metadata about the project\n",
    "\n",
    "# finally gather up the dataset_meta_data: for now I just wrote the information here, I might setup in a separate text file later\n",
    "df3 = pd.DataFrame({\n",
    "    'dataset_short_name': ['BIOSSCOPE_v1'],\n",
    "    'dataset_long_name': ['BIOS-SCOPE ' + workOne],\n",
    "    'dataset_version': ['1.0'],\n",
    "    'dataset_release_date': ['2025-06-25'],\n",
    "    'dataset_make': ['observation'],\n",
    "    'dataset_source': ['Craig Carlson, Bermuda Institute of Ocean Sciences'],\n",
    "    'dataset_distributor': ['Craig Carlson, Bermuda Institute of Ocean Sciences'],\n",
    "    'dataset_acknowledgement': ['We thank the BIOS-SCOPE project team and the BATS team for assistance with sample collection, processing, and analysis. The efforts of the captains, crew, and marine technicians of the R/V Atlantic Explorer are a key aspect of the success of this project. This work supported by funding from the Simons Foundation International.'],\n",
    "    'dataset_history': [''],\n",
    "    'dataset_description': ['This dataset includes analyses from Niskin bottle samples collected on R/V Atlantic Explorer cruises as part of the BIOS-SCOPE campaign in the time period from 2016 until 2025. Included are CTD data, and survey biogeochemical samples including inorganic nutrients, particulate organic carbon and nitrogen, dissolved organic carbon, dissolved organic nitrogen, total dissolved amino acids, bacterial abundance and production.'],\n",
    "    'dataset_references': ['Carlson, C. A., Giovannoni, S., Liu, S., Halewood, E. (2025) BIOS-SCOPE survey biogeochemical data as collected on Atlantic Explorer cruises (AE1614, AE1712, AE1819, AE1916) from 2016 through 2019. Biological and Chemical Oceanography Data Management Office (BCO-DMO). (Version 1) Version Date 2021-10-17. doi:10.26008/1912/bco-dmo.861266.1 [25 June 2025]'],\n",
    "    'climatology': [0]\n",
    "    })\n",
    "\n",
    "#get the list of cruise names from the bcodmo data file\n",
    "t = pd.DataFrame(bcodmo['Cruise_ID'].unique())\n",
    "t.columns = ['cruise_names']\n",
    "df3 = pd.concat([df3,t],axis=1,ignore_index = True)"
   ]
  },
  {
   "cell_type": "code",
   "execution_count": 18,
   "id": "bc3e5d1f-3796-4ffa-b6f0-f59d35e6532e",
   "metadata": {
    "id": "bc3e5d1f-3796-4ffa-b6f0-f59d35e6532e",
    "outputId": "2d18111d-de4f-4f8b-d941-7d3d114df852"
   },
   "outputs": [
    {
     "name": "stdout",
     "output_type": "stream",
     "text": [
      "Data will go here: C:\\Users\\klongnecker\\Documents\\Dropbox\\GitHub_espresso\\BWrepos\\data\n"
     ]
    }
   ],
   "source": [
    "#export the result as an Excel file with three tabs\n",
    "#make the data folder if it is not already there (it is in .gitignore, so it will not end up at GitHub)\n",
    "folder = \"data\"\n",
    "os.chdir(\".\")\n",
    "\n",
    "if os.path.isdir(folder):\n",
    "    print(\"Data will go here: %s\" % (os.getcwd()) + '\\\\' + folder)\n",
    "else:\n",
    "    os.mkdir(folder)\n",
    "\n",
    "fName_CMAP = 'data/' + 'BIOSSCOPE_' + exportFile + .xlsx' \n",
    "dataset_names = {'data': df, 'dataset_meta_data': df3, 'vars_meta_data': df2}\n",
    "with pd.ExcelWriter(fName_CMAP) as writer:\n",
    "    for sheet_name, data in dataset_names.items():\n",
    "        data.to_excel(writer, sheet_name=sheet_name, index=False)"
   ]
  },
  {
   "cell_type": "code",
   "execution_count": null,
   "id": "305b2f94-c0dd-4487-9fde-ad111cd5c01e",
   "metadata": {
    "id": "305b2f94-c0dd-4487-9fde-ad111cd5c01e"
   },
   "outputs": [],
   "source": []
  },
  {
   "cell_type": "code",
   "execution_count": null,
   "id": "87362c80-6c41-468e-8f89-e2c4a4a0a683",
   "metadata": {
    "id": "87362c80-6c41-468e-8f89-e2c4a4a0a683"
   },
   "outputs": [],
   "source": []
  },
  {
   "cell_type": "code",
   "execution_count": null,
   "id": "aab4d4ea-af47-4348-b6e7-c2dcf6defa71",
   "metadata": {
    "id": "aab4d4ea-af47-4348-b6e7-c2dcf6defa71"
   },
   "outputs": [],
   "source": []
  },
  {
   "cell_type": "code",
   "execution_count": 19,
   "id": "8ee2444e-6a42-4da5-a193-3ff389aa7a68",
   "metadata": {
    "id": "8ee2444e-6a42-4da5-a193-3ff389aa7a68",
    "outputId": "4421524b-9b02-4f98-a12b-3c59b3d20ead"
   },
   "outputs": [
    {
     "ename": "UserWarning",
     "evalue": "Stopping and leave code below for historical reasons, code will not run",
     "output_type": "error",
     "traceback": [
      "\u001b[1;31m---------------------------------------------------------------------------\u001b[0m",
      "\u001b[1;31mUserWarning\u001b[0m                               Traceback (most recent call last)",
      "Cell \u001b[1;32mIn[19], line 1\u001b[0m\n\u001b[1;32m----> 1\u001b[0m \u001b[38;5;28;01mraise\u001b[39;00m \u001b[38;5;167;01mUserWarning\u001b[39;00m(\u001b[38;5;124m'\u001b[39m\u001b[38;5;124mStopping and leave code below for historical reasons, code will not run\u001b[39m\u001b[38;5;124m'\u001b[39m)\n",
      "\u001b[1;31mUserWarning\u001b[0m: Stopping and leave code below for historical reasons, code will not run"
     ]
    }
   ],
   "source": [
    "raise UserWarning('Stopping and leave code below for historical reasons, code will not run')"
   ]
  },
  {
   "cell_type": "code",
   "execution_count": null,
   "id": "005a18f4-00fe-42b4-9ee3-64c5c31f36fa",
   "metadata": {
    "id": "005a18f4-00fe-42b4-9ee3-64c5c31f36fa"
   },
   "outputs": [],
   "source": [
    "## Keep this next cell to share feedback\n",
    "#Need the information from BCO-DMO to fill in the metadata about the variables.\n",
    "## took me a while to figure out that I needed 'custom' to access the BCO-DMO parameters. It shows up in the original\n",
    "# code Adam wrote to gather the information, but when you look at biosscope.resources[6] the information is not listed\n",
    "# under 'custom', so that required some digging around\n",
    "# The following syntaxes do not work, and I tried them all before I figured out  I need 'custom'\n",
    "# md = biosscope.resources[6].['bcodmo:parameters']\n",
    "# md = biosscope.resources[6].{['bcodmo:parameters']}\n",
    "# md = biosscope.resources[6].[{'bcodmo:parameters'}]\n",
    "# md = biosscope.resources[6].'bcodmo:parameters'\n",
    "\n",
    "## THIS WORKS\n",
    "# md = biosscope.resources[6].custom['bcodmo:parameters'] #this is a list"
   ]
  },
  {
   "cell_type": "code",
   "execution_count": null,
   "id": "133c38dd-34e2-4e41-bc84-7ef8414ffcd2",
   "metadata": {
    "id": "133c38dd-34e2-4e41-bc84-7ef8414ffcd2"
   },
   "outputs": [],
   "source": [
    "#use this for debugging\n",
    "import pdb\n",
    "#put this where I need to stop #pdb.set_trace()"
   ]
  },
  {
   "cell_type": "code",
   "execution_count": null,
   "id": "c0d66887-afe4-4cb7-9feb-b046261dc939",
   "metadata": {
    "id": "c0d66887-afe4-4cb7-9feb-b046261dc939"
   },
   "outputs": [],
   "source": [
    "%reset -f"
   ]
  }
 ],
 "metadata": {
  "colab": {
   "provenance": []
  },
  "kernelspec": {
   "display_name": "Python 3 (ipykernel)",
   "language": "python",
   "name": "python3"
  },
  "language_info": {
   "codemirror_mode": {
    "name": "ipython",
    "version": 3
   },
   "file_extension": ".py",
   "mimetype": "text/x-python",
   "name": "python",
   "nbconvert_exporter": "python",
   "pygments_lexer": "ipython3",
   "version": "3.11.7"
  }
 },
 "nbformat": 4,
 "nbformat_minor": 5
}
